{
 "cells": [
  {
   "cell_type": "markdown",
   "id": "9d1f5de3",
   "metadata": {},
   "source": [
    "   # Python#"
   ]
  },
  {
   "cell_type": "markdown",
   "id": "5e0acdb0",
   "metadata": {},
   "source": [
    "##Basics"
   ]
  },
  {
   "cell_type": "code",
   "execution_count": 1,
   "id": "153b507b",
   "metadata": {},
   "outputs": [
    {
     "data": {
      "text/plain": [
       "30"
      ]
     },
     "execution_count": 1,
     "metadata": {},
     "output_type": "execute_result"
    }
   ],
   "source": [
    "a=10\n",
    "b=20\n",
    "a+b"
   ]
  },
  {
   "cell_type": "code",
   "execution_count": 2,
   "id": "bbc88676",
   "metadata": {},
   "outputs": [
    {
     "data": {
      "text/plain": [
       "-10"
      ]
     },
     "execution_count": 2,
     "metadata": {},
     "output_type": "execute_result"
    }
   ],
   "source": [
    "a-b"
   ]
  },
  {
   "cell_type": "code",
   "execution_count": 3,
   "id": "49abf69b",
   "metadata": {},
   "outputs": [
    {
     "data": {
      "text/plain": [
       "200"
      ]
     },
     "execution_count": 3,
     "metadata": {},
     "output_type": "execute_result"
    }
   ],
   "source": [
    "a*b"
   ]
  },
  {
   "cell_type": "code",
   "execution_count": 7,
   "id": "cb81ccdf",
   "metadata": {},
   "outputs": [
    {
     "data": {
      "text/plain": [
       "2.0"
      ]
     },
     "execution_count": 7,
     "metadata": {},
     "output_type": "execute_result"
    }
   ],
   "source": [
    "b/a"
   ]
  },
  {
   "cell_type": "code",
   "execution_count": 10,
   "id": "4e3a43fe",
   "metadata": {},
   "outputs": [
    {
     "data": {
      "text/plain": [
       "0"
      ]
     },
     "execution_count": 10,
     "metadata": {},
     "output_type": "execute_result"
    }
   ],
   "source": [
    "b%a"
   ]
  },
  {
   "cell_type": "code",
   "execution_count": 6,
   "id": "db597bfb",
   "metadata": {},
   "outputs": [
    {
     "data": {
      "text/plain": [
       "100000000000000000000"
      ]
     },
     "execution_count": 6,
     "metadata": {},
     "output_type": "execute_result"
    }
   ],
   "source": [
    "a**b"
   ]
  },
  {
   "cell_type": "code",
   "execution_count": 11,
   "id": "44846d63",
   "metadata": {},
   "outputs": [
    {
     "data": {
      "text/plain": [
       "0"
      ]
     },
     "execution_count": 11,
     "metadata": {},
     "output_type": "execute_result"
    }
   ],
   "source": [
    "a//b"
   ]
  },
  {
   "cell_type": "code",
   "execution_count": null,
   "id": "e1bf7ba0",
   "metadata": {},
   "outputs": [],
   "source": []
  },
  {
   "cell_type": "code",
   "execution_count": null,
   "id": "a7dce606",
   "metadata": {},
   "outputs": [],
   "source": [
    "##Assignment Operator"
   ]
  },
  {
   "cell_type": "code",
   "execution_count": 56,
   "id": "b5bbf242",
   "metadata": {},
   "outputs": [],
   "source": [
    "c=a+b"
   ]
  },
  {
   "cell_type": "code",
   "execution_count": 57,
   "id": "796ccb6d",
   "metadata": {},
   "outputs": [],
   "source": [
    "c+=a"
   ]
  },
  {
   "cell_type": "code",
   "execution_count": 58,
   "id": "35f6fcf2",
   "metadata": {},
   "outputs": [],
   "source": [
    "c-=a"
   ]
  },
  {
   "cell_type": "code",
   "execution_count": 74,
   "id": "44be7876",
   "metadata": {},
   "outputs": [],
   "source": [
    "c*=a"
   ]
  },
  {
   "cell_type": "code",
   "execution_count": 73,
   "id": "bd659272",
   "metadata": {},
   "outputs": [],
   "source": [
    "c/=a"
   ]
  },
  {
   "cell_type": "code",
   "execution_count": 72,
   "id": "0ade9786",
   "metadata": {},
   "outputs": [],
   "source": [
    "c%=a"
   ]
  },
  {
   "cell_type": "code",
   "execution_count": 71,
   "id": "ffa171ef",
   "metadata": {},
   "outputs": [
    {
     "ename": "OverflowError",
     "evalue": "(34, 'Result too large')",
     "output_type": "error",
     "traceback": [
      "\u001b[1;31m---------------------------------------------------------------------------\u001b[0m",
      "\u001b[1;31mOverflowError\u001b[0m                             Traceback (most recent call last)",
      "\u001b[1;32m<ipython-input-71-f9b2dd9f3de9>\u001b[0m in \u001b[0;36m<module>\u001b[1;34m\u001b[0m\n\u001b[1;32m----> 1\u001b[1;33m \u001b[0mc\u001b[0m\u001b[1;33m**=\u001b[0m\u001b[0ma\u001b[0m\u001b[1;33m\u001b[0m\u001b[1;33m\u001b[0m\u001b[0m\n\u001b[0m",
      "\u001b[1;31mOverflowError\u001b[0m: (34, 'Result too large')"
     ]
    }
   ],
   "source": [
    "c**=a"
   ]
  },
  {
   "cell_type": "code",
   "execution_count": 63,
   "id": "13561a7f",
   "metadata": {},
   "outputs": [
    {
     "data": {
      "text/plain": [
       "3.3236017948696883e+21"
      ]
     },
     "execution_count": 63,
     "metadata": {},
     "output_type": "execute_result"
    }
   ],
   "source": [
    "c//a"
   ]
  },
  {
   "cell_type": "code",
   "execution_count": null,
   "id": "6b23c0e7",
   "metadata": {},
   "outputs": [],
   "source": []
  },
  {
   "cell_type": "code",
   "execution_count": null,
   "id": "b2c801f3",
   "metadata": {},
   "outputs": [],
   "source": [
    "##Bitwwise Operator"
   ]
  },
  {
   "cell_type": "code",
   "execution_count": 75,
   "id": "bafb10ed",
   "metadata": {},
   "outputs": [
    {
     "data": {
      "text/plain": [
       "8"
      ]
     },
     "execution_count": 75,
     "metadata": {},
     "output_type": "execute_result"
    }
   ],
   "source": [
    "a&b"
   ]
  },
  {
   "cell_type": "code",
   "execution_count": 82,
   "id": "c6f474be",
   "metadata": {},
   "outputs": [
    {
     "data": {
      "text/plain": [
       "25"
      ]
     },
     "execution_count": 82,
     "metadata": {},
     "output_type": "execute_result"
    }
   ],
   "source": [
    "a|b"
   ]
  },
  {
   "cell_type": "code",
   "execution_count": 77,
   "id": "21e405c8",
   "metadata": {},
   "outputs": [
    {
     "data": {
      "text/plain": [
       "17"
      ]
     },
     "execution_count": 77,
     "metadata": {},
     "output_type": "execute_result"
    }
   ],
   "source": [
    "a^b"
   ]
  },
  {
   "cell_type": "code",
   "execution_count": 78,
   "id": "6d3ad04c",
   "metadata": {},
   "outputs": [
    {
     "data": {
      "text/plain": [
       "-25"
      ]
     },
     "execution_count": 78,
     "metadata": {},
     "output_type": "execute_result"
    }
   ],
   "source": [
    "~a"
   ]
  },
  {
   "cell_type": "code",
   "execution_count": 79,
   "id": "9d5cc9a1",
   "metadata": {},
   "outputs": [
    {
     "data": {
      "text/plain": [
       "12288"
      ]
     },
     "execution_count": 79,
     "metadata": {},
     "output_type": "execute_result"
    }
   ],
   "source": [
    "a<<b"
   ]
  },
  {
   "cell_type": "code",
   "execution_count": 80,
   "id": "5703c0fa",
   "metadata": {},
   "outputs": [
    {
     "data": {
      "text/plain": [
       "0"
      ]
     },
     "execution_count": 80,
     "metadata": {},
     "output_type": "execute_result"
    }
   ],
   "source": [
    "a>>b"
   ]
  },
  {
   "cell_type": "code",
   "execution_count": 81,
   "id": "59e220e7",
   "metadata": {},
   "outputs": [
    {
     "data": {
      "text/plain": [
       "8"
      ]
     },
     "execution_count": 81,
     "metadata": {},
     "output_type": "execute_result"
    }
   ],
   "source": [
    "b&a"
   ]
  },
  {
   "cell_type": "code",
   "execution_count": 83,
   "id": "2ac6732f",
   "metadata": {},
   "outputs": [
    {
     "data": {
      "text/plain": [
       "25"
      ]
     },
     "execution_count": 83,
     "metadata": {},
     "output_type": "execute_result"
    }
   ],
   "source": [
    "b|a"
   ]
  },
  {
   "cell_type": "code",
   "execution_count": 84,
   "id": "028204bc",
   "metadata": {},
   "outputs": [
    {
     "data": {
      "text/plain": [
       "17"
      ]
     },
     "execution_count": 84,
     "metadata": {},
     "output_type": "execute_result"
    }
   ],
   "source": [
    "b^a"
   ]
  },
  {
   "cell_type": "code",
   "execution_count": 85,
   "id": "6614058d",
   "metadata": {},
   "outputs": [
    {
     "data": {
      "text/plain": [
       "-10"
      ]
     },
     "execution_count": 85,
     "metadata": {},
     "output_type": "execute_result"
    }
   ],
   "source": [
    "~b"
   ]
  },
  {
   "cell_type": "code",
   "execution_count": 86,
   "id": "be7cd6bf",
   "metadata": {},
   "outputs": [
    {
     "data": {
      "text/plain": [
       "150994944"
      ]
     },
     "execution_count": 86,
     "metadata": {},
     "output_type": "execute_result"
    }
   ],
   "source": [
    "b<<a"
   ]
  },
  {
   "cell_type": "code",
   "execution_count": 87,
   "id": "aa520af1",
   "metadata": {},
   "outputs": [
    {
     "data": {
      "text/plain": [
       "0"
      ]
     },
     "execution_count": 87,
     "metadata": {},
     "output_type": "execute_result"
    }
   ],
   "source": [
    "b>>a"
   ]
  },
  {
   "cell_type": "code",
   "execution_count": null,
   "id": "5fff20c6",
   "metadata": {},
   "outputs": [],
   "source": []
  },
  {
   "cell_type": "markdown",
   "id": "884020c8",
   "metadata": {},
   "source": [
    "##Comparision Operator"
   ]
  },
  {
   "cell_type": "code",
   "execution_count": 12,
   "id": "77903440",
   "metadata": {},
   "outputs": [
    {
     "data": {
      "text/plain": [
       "False"
      ]
     },
     "execution_count": 12,
     "metadata": {},
     "output_type": "execute_result"
    }
   ],
   "source": [
    "a==b"
   ]
  },
  {
   "cell_type": "code",
   "execution_count": 13,
   "id": "3d633276",
   "metadata": {},
   "outputs": [
    {
     "data": {
      "text/plain": [
       "True"
      ]
     },
     "execution_count": 13,
     "metadata": {},
     "output_type": "execute_result"
    }
   ],
   "source": [
    "a!=b"
   ]
  },
  {
   "cell_type": "code",
   "execution_count": 14,
   "id": "fe96214b",
   "metadata": {},
   "outputs": [
    {
     "data": {
      "text/plain": [
       "True"
      ]
     },
     "execution_count": 14,
     "metadata": {},
     "output_type": "execute_result"
    }
   ],
   "source": [
    "a<b"
   ]
  },
  {
   "cell_type": "code",
   "execution_count": 15,
   "id": "aa14b099",
   "metadata": {},
   "outputs": [
    {
     "data": {
      "text/plain": [
       "False"
      ]
     },
     "execution_count": 15,
     "metadata": {},
     "output_type": "execute_result"
    }
   ],
   "source": [
    "a>b"
   ]
  },
  {
   "cell_type": "code",
   "execution_count": 16,
   "id": "e9310cf7",
   "metadata": {},
   "outputs": [
    {
     "data": {
      "text/plain": [
       "True"
      ]
     },
     "execution_count": 16,
     "metadata": {},
     "output_type": "execute_result"
    }
   ],
   "source": [
    "a<=b"
   ]
  },
  {
   "cell_type": "code",
   "execution_count": 17,
   "id": "fe44caa0",
   "metadata": {},
   "outputs": [
    {
     "data": {
      "text/plain": [
       "False"
      ]
     },
     "execution_count": 17,
     "metadata": {},
     "output_type": "execute_result"
    }
   ],
   "source": [
    "a>=b"
   ]
  },
  {
   "cell_type": "code",
   "execution_count": 2,
   "id": "d0743201",
   "metadata": {},
   "outputs": [
    {
     "ename": "SyntaxError",
     "evalue": "invalid syntax (<ipython-input-2-21bd1a23e920>, line 1)",
     "output_type": "error",
     "traceback": [
      "\u001b[1;36m  File \u001b[1;32m\"<ipython-input-2-21bd1a23e920>\"\u001b[1;36m, line \u001b[1;32m1\u001b[0m\n\u001b[1;33m    b<>a\u001b[0m\n\u001b[1;37m      ^\u001b[0m\n\u001b[1;31mSyntaxError\u001b[0m\u001b[1;31m:\u001b[0m invalid syntax\n"
     ]
    }
   ],
   "source": [
    "b<>a"
   ]
  },
  {
   "cell_type": "code",
   "execution_count": null,
   "id": "fcfa3af3",
   "metadata": {},
   "outputs": [],
   "source": [
    "##Logical Operator"
   ]
  },
  {
   "cell_type": "code",
   "execution_count": 18,
   "id": "f9975cc6",
   "metadata": {},
   "outputs": [
    {
     "data": {
      "text/plain": [
       "20"
      ]
     },
     "execution_count": 18,
     "metadata": {},
     "output_type": "execute_result"
    }
   ],
   "source": [
    "a and b"
   ]
  },
  {
   "cell_type": "code",
   "execution_count": 19,
   "id": "34ae3544",
   "metadata": {},
   "outputs": [
    {
     "data": {
      "text/plain": [
       "20"
      ]
     },
     "execution_count": 19,
     "metadata": {},
     "output_type": "execute_result"
    }
   ],
   "source": [
    "a or b"
   ]
  },
  {
   "cell_type": "code",
   "execution_count": 21,
   "id": "96f3ba1a",
   "metadata": {},
   "outputs": [
    {
     "data": {
      "text/plain": [
       "False"
      ]
     },
     "execution_count": 21,
     "metadata": {},
     "output_type": "execute_result"
    }
   ],
   "source": [
    "not(a and b)"
   ]
  },
  {
   "cell_type": "code",
   "execution_count": null,
   "id": "aa4f3b92",
   "metadata": {},
   "outputs": [],
   "source": []
  },
  {
   "cell_type": "code",
   "execution_count": null,
   "id": "1601aaba",
   "metadata": {},
   "outputs": [],
   "source": [
    "##Membership Operator"
   ]
  },
  {
   "cell_type": "code",
   "execution_count": 19,
   "id": "13eaa5bb",
   "metadata": {},
   "outputs": [
    {
     "data": {
      "text/plain": [
       "False"
      ]
     },
     "execution_count": 19,
     "metadata": {},
     "output_type": "execute_result"
    }
   ],
   "source": [
    "x=1,2,3,4,5\n",
    "y=1,2,3,4,5,6\n",
    "x in y"
   ]
  },
  {
   "cell_type": "code",
   "execution_count": 20,
   "id": "c89680e0",
   "metadata": {},
   "outputs": [
    {
     "data": {
      "text/plain": [
       "True"
      ]
     },
     "execution_count": 20,
     "metadata": {},
     "output_type": "execute_result"
    }
   ],
   "source": [
    "x not in y"
   ]
  },
  {
   "cell_type": "code",
   "execution_count": 21,
   "id": "81726161",
   "metadata": {},
   "outputs": [
    {
     "data": {
      "text/plain": [
       "False"
      ]
     },
     "execution_count": 21,
     "metadata": {},
     "output_type": "execute_result"
    }
   ],
   "source": [
    "y in x"
   ]
  },
  {
   "cell_type": "code",
   "execution_count": 22,
   "id": "e0039f7e",
   "metadata": {},
   "outputs": [
    {
     "data": {
      "text/plain": [
       "True"
      ]
     },
     "execution_count": 22,
     "metadata": {},
     "output_type": "execute_result"
    }
   ],
   "source": [
    "y not in x"
   ]
  },
  {
   "cell_type": "code",
   "execution_count": 16,
   "id": "a27a676e",
   "metadata": {},
   "outputs": [
    {
     "data": {
      "text/plain": [
       "True"
      ]
     },
     "execution_count": 16,
     "metadata": {},
     "output_type": "execute_result"
    }
   ],
   "source": [
    "x=\"1,2,3,4,5\"\n",
    "y=\"1,2,3,4,5,6\"\n",
    "x in y"
   ]
  },
  {
   "cell_type": "code",
   "execution_count": 23,
   "id": "f79b17c8",
   "metadata": {},
   "outputs": [
    {
     "data": {
      "text/plain": [
       "True"
      ]
     },
     "execution_count": 23,
     "metadata": {},
     "output_type": "execute_result"
    }
   ],
   "source": [
    "x not in y"
   ]
  },
  {
   "cell_type": "code",
   "execution_count": 24,
   "id": "fa1871c0",
   "metadata": {},
   "outputs": [
    {
     "data": {
      "text/plain": [
       "False"
      ]
     },
     "execution_count": 24,
     "metadata": {},
     "output_type": "execute_result"
    }
   ],
   "source": [
    "y in x"
   ]
  },
  {
   "cell_type": "code",
   "execution_count": 25,
   "id": "497ff1ce",
   "metadata": {},
   "outputs": [
    {
     "data": {
      "text/plain": [
       "True"
      ]
     },
     "execution_count": 25,
     "metadata": {},
     "output_type": "execute_result"
    }
   ],
   "source": [
    "y not in x"
   ]
  },
  {
   "cell_type": "code",
   "execution_count": 33,
   "id": "7b3b73db",
   "metadata": {},
   "outputs": [
    {
     "data": {
      "text/plain": [
       "True"
      ]
     },
     "execution_count": 33,
     "metadata": {},
     "output_type": "execute_result"
    }
   ],
   "source": [
    "x=(\"1,2,3,4,5\")\n",
    "y=(\"1,2,3,4,5,6\")\n",
    "x in y"
   ]
  },
  {
   "cell_type": "code",
   "execution_count": 34,
   "id": "1e8a9fce",
   "metadata": {},
   "outputs": [
    {
     "data": {
      "text/plain": [
       "False"
      ]
     },
     "execution_count": 34,
     "metadata": {},
     "output_type": "execute_result"
    }
   ],
   "source": [
    "x not in y"
   ]
  },
  {
   "cell_type": "code",
   "execution_count": 35,
   "id": "a5b7be32",
   "metadata": {},
   "outputs": [
    {
     "data": {
      "text/plain": [
       "False"
      ]
     },
     "execution_count": 35,
     "metadata": {},
     "output_type": "execute_result"
    }
   ],
   "source": [
    "y in x"
   ]
  },
  {
   "cell_type": "code",
   "execution_count": 36,
   "id": "351cac51",
   "metadata": {},
   "outputs": [
    {
     "data": {
      "text/plain": [
       "True"
      ]
     },
     "execution_count": 36,
     "metadata": {},
     "output_type": "execute_result"
    }
   ],
   "source": [
    "y not in x"
   ]
  },
  {
   "cell_type": "code",
   "execution_count": null,
   "id": "222ea55a",
   "metadata": {},
   "outputs": [],
   "source": []
  },
  {
   "cell_type": "code",
   "execution_count": 29,
   "id": "31c2e7ef",
   "metadata": {},
   "outputs": [
    {
     "data": {
      "text/plain": [
       "False"
      ]
     },
     "execution_count": 29,
     "metadata": {},
     "output_type": "execute_result"
    }
   ],
   "source": [
    "x=(\"1\",\"2\",\"3\",\"4\",\"5\")\n",
    "y=(\"1\",\"2\",\"3\",\"4\",\"5\",\"6\")\n",
    "x in y"
   ]
  },
  {
   "cell_type": "code",
   "execution_count": 30,
   "id": "e4a8efc9",
   "metadata": {},
   "outputs": [
    {
     "data": {
      "text/plain": [
       "True"
      ]
     },
     "execution_count": 30,
     "metadata": {},
     "output_type": "execute_result"
    }
   ],
   "source": [
    "x not in y"
   ]
  },
  {
   "cell_type": "code",
   "execution_count": 31,
   "id": "4b4099a3",
   "metadata": {},
   "outputs": [
    {
     "data": {
      "text/plain": [
       "False"
      ]
     },
     "execution_count": 31,
     "metadata": {},
     "output_type": "execute_result"
    }
   ],
   "source": [
    "y in x"
   ]
  },
  {
   "cell_type": "code",
   "execution_count": 32,
   "id": "fc05e0f1",
   "metadata": {},
   "outputs": [
    {
     "data": {
      "text/plain": [
       "True"
      ]
     },
     "execution_count": 32,
     "metadata": {},
     "output_type": "execute_result"
    }
   ],
   "source": [
    "y not in x"
   ]
  },
  {
   "cell_type": "code",
   "execution_count": null,
   "id": "2250c97e",
   "metadata": {},
   "outputs": [],
   "source": [
    "x=\"1,2,3,4,5\"\n",
    "y=\"1,2,3,4,5,6\"\n",
    "x in y"
   ]
  },
  {
   "cell_type": "code",
   "execution_count": null,
   "id": "7a78a6be",
   "metadata": {},
   "outputs": [],
   "source": []
  },
  {
   "cell_type": "code",
   "execution_count": 37,
   "id": "9d0d6799",
   "metadata": {},
   "outputs": [
    {
     "data": {
      "text/plain": [
       "False"
      ]
     },
     "execution_count": 37,
     "metadata": {},
     "output_type": "execute_result"
    }
   ],
   "source": [
    "x=[\"1,2,3,4,5\"]\n",
    "y=[\"1,2,3,4,5,6\"]\n",
    "x in y"
   ]
  },
  {
   "cell_type": "code",
   "execution_count": 38,
   "id": "81bf7b69",
   "metadata": {},
   "outputs": [
    {
     "data": {
      "text/plain": [
       "True"
      ]
     },
     "execution_count": 38,
     "metadata": {},
     "output_type": "execute_result"
    }
   ],
   "source": [
    "x not in y"
   ]
  },
  {
   "cell_type": "code",
   "execution_count": 39,
   "id": "50628cf2",
   "metadata": {},
   "outputs": [
    {
     "data": {
      "text/plain": [
       "False"
      ]
     },
     "execution_count": 39,
     "metadata": {},
     "output_type": "execute_result"
    }
   ],
   "source": [
    "y in y"
   ]
  },
  {
   "cell_type": "code",
   "execution_count": 40,
   "id": "0203516d",
   "metadata": {},
   "outputs": [
    {
     "data": {
      "text/plain": [
       "True"
      ]
     },
     "execution_count": 40,
     "metadata": {},
     "output_type": "execute_result"
    }
   ],
   "source": [
    "y not in x"
   ]
  },
  {
   "cell_type": "code",
   "execution_count": null,
   "id": "9417e045",
   "metadata": {},
   "outputs": [],
   "source": []
  },
  {
   "cell_type": "code",
   "execution_count": 42,
   "id": "f8fa224d",
   "metadata": {},
   "outputs": [
    {
     "data": {
      "text/plain": [
       "False"
      ]
     },
     "execution_count": 42,
     "metadata": {},
     "output_type": "execute_result"
    }
   ],
   "source": [
    "x=[\"1\",\"2\",\"3\",\"4\",\"5\"]\n",
    "y=[\"1\",\"2\",\"3\",\"4\",\"5\",\"6\"]\n",
    "x in y"
   ]
  },
  {
   "cell_type": "code",
   "execution_count": 43,
   "id": "93603622",
   "metadata": {},
   "outputs": [
    {
     "data": {
      "text/plain": [
       "True"
      ]
     },
     "execution_count": 43,
     "metadata": {},
     "output_type": "execute_result"
    }
   ],
   "source": [
    "x not in y"
   ]
  },
  {
   "cell_type": "code",
   "execution_count": 44,
   "id": "67745fa9",
   "metadata": {},
   "outputs": [
    {
     "data": {
      "text/plain": [
       "False"
      ]
     },
     "execution_count": 44,
     "metadata": {},
     "output_type": "execute_result"
    }
   ],
   "source": [
    "y in x"
   ]
  },
  {
   "cell_type": "code",
   "execution_count": 45,
   "id": "725446b1",
   "metadata": {},
   "outputs": [
    {
     "data": {
      "text/plain": [
       "True"
      ]
     },
     "execution_count": 45,
     "metadata": {},
     "output_type": "execute_result"
    }
   ],
   "source": [
    "y not in x"
   ]
  },
  {
   "cell_type": "code",
   "execution_count": 46,
   "id": "4f101d6c",
   "metadata": {},
   "outputs": [
    {
     "data": {
      "text/plain": [
       "False"
      ]
     },
     "execution_count": 46,
     "metadata": {},
     "output_type": "execute_result"
    }
   ],
   "source": [
    "x={\"1,2,3,4,5\"}\n",
    "y={\"1,2,3,4,5,6\"}\n",
    "x in y"
   ]
  },
  {
   "cell_type": "code",
   "execution_count": 47,
   "id": "8eed788e",
   "metadata": {},
   "outputs": [
    {
     "data": {
      "text/plain": [
       "True"
      ]
     },
     "execution_count": 47,
     "metadata": {},
     "output_type": "execute_result"
    }
   ],
   "source": [
    "x not in y"
   ]
  },
  {
   "cell_type": "code",
   "execution_count": 48,
   "id": "d68b7384",
   "metadata": {},
   "outputs": [
    {
     "data": {
      "text/plain": [
       "False"
      ]
     },
     "execution_count": 48,
     "metadata": {},
     "output_type": "execute_result"
    }
   ],
   "source": [
    "y in x"
   ]
  },
  {
   "cell_type": "code",
   "execution_count": 49,
   "id": "c3365c6a",
   "metadata": {},
   "outputs": [
    {
     "data": {
      "text/plain": [
       "True"
      ]
     },
     "execution_count": 49,
     "metadata": {},
     "output_type": "execute_result"
    }
   ],
   "source": [
    "y not in x"
   ]
  },
  {
   "cell_type": "code",
   "execution_count": null,
   "id": "3c3974b4",
   "metadata": {},
   "outputs": [],
   "source": []
  },
  {
   "cell_type": "code",
   "execution_count": null,
   "id": "bf6e7037",
   "metadata": {},
   "outputs": [],
   "source": []
  },
  {
   "cell_type": "code",
   "execution_count": null,
   "id": "1b18b48d",
   "metadata": {},
   "outputs": [],
   "source": []
  },
  {
   "cell_type": "code",
   "execution_count": null,
   "id": "72810fdf",
   "metadata": {},
   "outputs": [],
   "source": [
    "##Identity Operator"
   ]
  },
  {
   "cell_type": "code",
   "execution_count": 50,
   "id": "bdda72da",
   "metadata": {},
   "outputs": [
    {
     "data": {
      "text/plain": [
       "False"
      ]
     },
     "execution_count": 50,
     "metadata": {},
     "output_type": "execute_result"
    }
   ],
   "source": [
    "x is y"
   ]
  },
  {
   "cell_type": "code",
   "execution_count": 51,
   "id": "91358b59",
   "metadata": {},
   "outputs": [
    {
     "data": {
      "text/plain": [
       "True"
      ]
     },
     "execution_count": 51,
     "metadata": {},
     "output_type": "execute_result"
    }
   ],
   "source": [
    "x is not y"
   ]
  },
  {
   "cell_type": "code",
   "execution_count": 52,
   "id": "3e400c8f",
   "metadata": {},
   "outputs": [
    {
     "data": {
      "text/plain": [
       "False"
      ]
     },
     "execution_count": 52,
     "metadata": {},
     "output_type": "execute_result"
    }
   ],
   "source": [
    "y is x"
   ]
  },
  {
   "cell_type": "code",
   "execution_count": 53,
   "id": "2c7e5018",
   "metadata": {},
   "outputs": [
    {
     "data": {
      "text/plain": [
       "True"
      ]
     },
     "execution_count": 53,
     "metadata": {},
     "output_type": "execute_result"
    }
   ],
   "source": [
    "y is not x"
   ]
  },
  {
   "cell_type": "code",
   "execution_count": null,
   "id": "6f7394f2",
   "metadata": {},
   "outputs": [],
   "source": []
  },
  {
   "cell_type": "markdown",
   "id": "89b284da",
   "metadata": {},
   "source": [
    "# VALUES"
   ]
  },
  {
   "cell_type": "code",
   "execution_count": 93,
   "id": "05052984",
   "metadata": {},
   "outputs": [
    {
     "data": {
      "text/plain": [
       "str"
      ]
     },
     "execution_count": 93,
     "metadata": {},
     "output_type": "execute_result"
    }
   ],
   "source": [
    "type(\"Hello World!\")"
   ]
  },
  {
   "cell_type": "code",
   "execution_count": 94,
   "id": "90e2eb2e",
   "metadata": {},
   "outputs": [
    {
     "data": {
      "text/plain": [
       "int"
      ]
     },
     "execution_count": 94,
     "metadata": {},
     "output_type": "execute_result"
    }
   ],
   "source": [
    "type(1)"
   ]
  },
  {
   "cell_type": "code",
   "execution_count": 95,
   "id": "b4010b20",
   "metadata": {},
   "outputs": [
    {
     "data": {
      "text/plain": [
       "float"
      ]
     },
     "execution_count": 95,
     "metadata": {},
     "output_type": "execute_result"
    }
   ],
   "source": [
    "type(1.5)"
   ]
  },
  {
   "cell_type": "code",
   "execution_count": 97,
   "id": "a79e8c74",
   "metadata": {},
   "outputs": [
    {
     "data": {
      "text/plain": [
       "float"
      ]
     },
     "execution_count": 97,
     "metadata": {},
     "output_type": "execute_result"
    }
   ],
   "source": [
    "type(-1.5)"
   ]
  },
  {
   "cell_type": "code",
   "execution_count": null,
   "id": "8dd3df0e",
   "metadata": {},
   "outputs": [],
   "source": []
  },
  {
   "cell_type": "markdown",
   "id": "0656abeb",
   "metadata": {},
   "source": [
    "# VARIABLE NAME"
   ]
  },
  {
   "cell_type": "code",
   "execution_count": 100,
   "id": "667dee15",
   "metadata": {},
   "outputs": [
    {
     "name": "stdout",
     "output_type": "stream",
     "text": [
      "dear chandu\n"
     ]
    }
   ],
   "source": [
    "a=\"dear chandu\"\n",
    "print(a)"
   ]
  },
  {
   "cell_type": "code",
   "execution_count": 102,
   "id": "50b2cb8e",
   "metadata": {},
   "outputs": [
    {
     "name": "stdout",
     "output_type": "stream",
     "text": [
      "dear chandu\n"
     ]
    }
   ],
   "source": [
    "A=\"dear chandu\"\n",
    "print(A)"
   ]
  },
  {
   "cell_type": "code",
   "execution_count": 104,
   "id": "d5abbf77",
   "metadata": {},
   "outputs": [
    {
     "name": "stdout",
     "output_type": "stream",
     "text": [
      "chandu\n"
     ]
    }
   ],
   "source": [
    "veera=\"chandu\"\n",
    "print(veera)"
   ]
  },
  {
   "cell_type": "code",
   "execution_count": 105,
   "id": "44b2225f",
   "metadata": {},
   "outputs": [
    {
     "name": "stdout",
     "output_type": "stream",
     "text": [
      "chandu\n"
     ]
    }
   ],
   "source": [
    "VEERA=\"chandu\"\n",
    "print(VEERA)"
   ]
  },
  {
   "cell_type": "code",
   "execution_count": 106,
   "id": "bbb29f79",
   "metadata": {},
   "outputs": [
    {
     "name": "stdout",
     "output_type": "stream",
     "text": [
      "1\n"
     ]
    }
   ],
   "source": [
    "a=\"1\"\n",
    "print(a)"
   ]
  },
  {
   "cell_type": "code",
   "execution_count": 107,
   "id": "ff39e355",
   "metadata": {},
   "outputs": [
    {
     "ename": "SyntaxError",
     "evalue": "invalid syntax (<ipython-input-107-ff7572079cf7>, line 1)",
     "output_type": "error",
     "traceback": [
      "\u001b[1;36m  File \u001b[1;32m\"<ipython-input-107-ff7572079cf7>\"\u001b[1;36m, line \u001b[1;32m1\u001b[0m\n\u001b[1;33m    1a=\"chandu\"\u001b[0m\n\u001b[1;37m     ^\u001b[0m\n\u001b[1;31mSyntaxError\u001b[0m\u001b[1;31m:\u001b[0m invalid syntax\n"
     ]
    }
   ],
   "source": [
    "1a=\"chandu\"\n",
    "print(1a)"
   ]
  },
  {
   "cell_type": "code",
   "execution_count": 108,
   "id": "a701ac80",
   "metadata": {},
   "outputs": [
    {
     "ename": "SyntaxError",
     "evalue": "invalid syntax (<ipython-input-108-3ae207318a83>, line 1)",
     "output_type": "error",
     "traceback": [
      "\u001b[1;36m  File \u001b[1;32m\"<ipython-input-108-3ae207318a83>\"\u001b[1;36m, line \u001b[1;32m1\u001b[0m\n\u001b[1;33m    @a=\"chandu\"\u001b[0m\n\u001b[1;37m      ^\u001b[0m\n\u001b[1;31mSyntaxError\u001b[0m\u001b[1;31m:\u001b[0m invalid syntax\n"
     ]
    }
   ],
   "source": [
    "@a=\"chandu\""
   ]
  },
  {
   "cell_type": "code",
   "execution_count": null,
   "id": "26e40fb7",
   "metadata": {},
   "outputs": [],
   "source": []
  },
  {
   "cell_type": "markdown",
   "id": "8404ea12",
   "metadata": {},
   "source": [
    "# EXPRESSIONS"
   ]
  },
  {
   "cell_type": "code",
   "execution_count": 110,
   "id": "97490818",
   "metadata": {},
   "outputs": [
    {
     "data": {
      "text/plain": [
       "42"
      ]
     },
     "execution_count": 110,
     "metadata": {},
     "output_type": "execute_result"
    }
   ],
   "source": [
    "42"
   ]
  },
  {
   "cell_type": "code",
   "execution_count": 114,
   "id": "4c4fba55",
   "metadata": {},
   "outputs": [],
   "source": [
    "n=17"
   ]
  },
  {
   "cell_type": "code",
   "execution_count": 115,
   "id": "dcccb22a",
   "metadata": {},
   "outputs": [
    {
     "data": {
      "text/plain": [
       "42"
      ]
     },
     "execution_count": 115,
     "metadata": {},
     "output_type": "execute_result"
    }
   ],
   "source": [
    "n+25"
   ]
  },
  {
   "cell_type": "code",
   "execution_count": null,
   "id": "9edc2589",
   "metadata": {},
   "outputs": [],
   "source": []
  },
  {
   "cell_type": "markdown",
   "id": "886aee13",
   "metadata": {},
   "source": [
    "# STATEMENTS"
   ]
  },
  {
   "cell_type": "code",
   "execution_count": 122,
   "id": "245c1289",
   "metadata": {},
   "outputs": [
    {
     "name": "stdout",
     "output_type": "stream",
     "text": [
      "4\n"
     ]
    }
   ],
   "source": [
    "a=\"4\"\n",
    "print(a)"
   ]
  },
  {
   "cell_type": "code",
   "execution_count": 124,
   "id": "62cc4f4a",
   "metadata": {},
   "outputs": [
    {
     "name": "stdout",
     "output_type": "stream",
     "text": [
      "chandu\n"
     ]
    }
   ],
   "source": [
    "a=\"chandu\"\n",
    "print(a)"
   ]
  },
  {
   "cell_type": "code",
   "execution_count": null,
   "id": "0d0ca592",
   "metadata": {},
   "outputs": [],
   "source": []
  },
  {
   "cell_type": "markdown",
   "id": "a0ad5eb0",
   "metadata": {},
   "source": [
    "# SCRIPT MODE"
   ]
  },
  {
   "cell_type": "code",
   "execution_count": 131,
   "id": "418d3151",
   "metadata": {},
   "outputs": [
    {
     "data": {
      "text/plain": [
       "1.2321000000000002"
      ]
     },
     "execution_count": 131,
     "metadata": {},
     "output_type": "execute_result"
    }
   ],
   "source": [
    "miles=1.11\n",
    "miles*1.11"
   ]
  },
  {
   "cell_type": "code",
   "execution_count": null,
   "id": "4241f9ee",
   "metadata": {},
   "outputs": [],
   "source": []
  },
  {
   "cell_type": "code",
   "execution_count": 132,
   "id": "043a13b1",
   "metadata": {},
   "outputs": [
    {
     "name": "stdout",
     "output_type": "stream",
     "text": [
      "1.2321000000000002\n"
     ]
    }
   ],
   "source": [
    "miles=1.11\n",
    "print(miles*1.11)"
   ]
  },
  {
   "cell_type": "code",
   "execution_count": null,
   "id": "cf5b4372",
   "metadata": {},
   "outputs": [],
   "source": []
  },
  {
   "cell_type": "markdown",
   "id": "c54c29d0",
   "metadata": {},
   "source": [
    "# EXPESSION EVALUATION"
   ]
  },
  {
   "cell_type": "code",
   "execution_count": null,
   "id": "60705327",
   "metadata": {},
   "outputs": [],
   "source": [
    "##PEMDAS"
   ]
  },
  {
   "cell_type": "code",
   "execution_count": 137,
   "id": "a2c0cbfa",
   "metadata": {},
   "outputs": [
    {
     "data": {
      "text/plain": [
       "4"
      ]
     },
     "execution_count": 137,
     "metadata": {},
     "output_type": "execute_result"
    }
   ],
   "source": [
    "2*(3-1)"
   ]
  },
  {
   "cell_type": "code",
   "execution_count": 138,
   "id": "8bb0c3e6",
   "metadata": {},
   "outputs": [
    {
     "data": {
      "text/plain": [
       "8"
      ]
     },
     "execution_count": 138,
     "metadata": {},
     "output_type": "execute_result"
    }
   ],
   "source": [
    "(1+1)**(5-2)"
   ]
  },
  {
   "cell_type": "code",
   "execution_count": 139,
   "id": "b169e7c2",
   "metadata": {},
   "outputs": [
    {
     "data": {
      "text/plain": [
       "9"
      ]
     },
     "execution_count": 139,
     "metadata": {},
     "output_type": "execute_result"
    }
   ],
   "source": [
    "1+2**3"
   ]
  },
  {
   "cell_type": "code",
   "execution_count": 140,
   "id": "13aa172a",
   "metadata": {},
   "outputs": [
    {
     "data": {
      "text/plain": [
       "18"
      ]
     },
     "execution_count": 140,
     "metadata": {},
     "output_type": "execute_result"
    }
   ],
   "source": [
    "2*3**2"
   ]
  },
  {
   "cell_type": "code",
   "execution_count": 141,
   "id": "5d100c3b",
   "metadata": {},
   "outputs": [
    {
     "data": {
      "text/plain": [
       "5"
      ]
     },
     "execution_count": 141,
     "metadata": {},
     "output_type": "execute_result"
    }
   ],
   "source": [
    "2*3-1"
   ]
  },
  {
   "cell_type": "code",
   "execution_count": 142,
   "id": "92e3dcbb",
   "metadata": {},
   "outputs": [
    {
     "data": {
      "text/plain": [
       "8.0"
      ]
     },
     "execution_count": 142,
     "metadata": {},
     "output_type": "execute_result"
    }
   ],
   "source": [
    "6+4/2"
   ]
  },
  {
   "cell_type": "code",
   "execution_count": 13,
   "id": "c73424b5",
   "metadata": {},
   "outputs": [
    {
     "data": {
      "text/plain": [
       "8"
      ]
     },
     "execution_count": 13,
     "metadata": {},
     "output_type": "execute_result"
    }
   ],
   "source": [
    "5+3"
   ]
  },
  {
   "cell_type": "code",
   "execution_count": 14,
   "id": "d7ed68a8",
   "metadata": {},
   "outputs": [
    {
     "name": "stdout",
     "output_type": "stream",
     "text": [
      "8\n"
     ]
    }
   ],
   "source": [
    "a=5+3\n",
    "print(a)"
   ]
  },
  {
   "cell_type": "code",
   "execution_count": 15,
   "id": "9d3c61dd",
   "metadata": {},
   "outputs": [
    {
     "data": {
      "text/plain": [
       "int"
      ]
     },
     "execution_count": 15,
     "metadata": {},
     "output_type": "execute_result"
    }
   ],
   "source": [
    "type(a)"
   ]
  },
  {
   "cell_type": "code",
   "execution_count": 18,
   "id": "7ab50aa9",
   "metadata": {},
   "outputs": [
    {
     "name": "stdout",
     "output_type": "stream",
     "text": [
      "chandu\n"
     ]
    }
   ],
   "source": [
    "a=\"chandu\"\n",
    "print(a)"
   ]
  },
  {
   "cell_type": "code",
   "execution_count": 19,
   "id": "85fa9161",
   "metadata": {},
   "outputs": [
    {
     "data": {
      "text/plain": [
       "str"
      ]
     },
     "execution_count": 19,
     "metadata": {},
     "output_type": "execute_result"
    }
   ],
   "source": [
    "type(a)"
   ]
  },
  {
   "cell_type": "code",
   "execution_count": 20,
   "id": "09aec219",
   "metadata": {},
   "outputs": [
    {
     "name": "stdout",
     "output_type": "stream",
     "text": [
      "3.0\n"
     ]
    }
   ],
   "source": [
    "a=1.2+1.8\n",
    "print(a)"
   ]
  },
  {
   "cell_type": "code",
   "execution_count": 21,
   "id": "afec6e34",
   "metadata": {},
   "outputs": [
    {
     "data": {
      "text/plain": [
       "float"
      ]
     },
     "execution_count": 21,
     "metadata": {},
     "output_type": "execute_result"
    }
   ],
   "source": [
    "type(a)"
   ]
  },
  {
   "cell_type": "code",
   "execution_count": 22,
   "id": "a9997165",
   "metadata": {},
   "outputs": [
    {
     "name": "stdout",
     "output_type": "stream",
     "text": [
      "1 2 3\n"
     ]
    }
   ],
   "source": [
    "a,b,c=1,2,3\n",
    "print(a,b,c)"
   ]
  },
  {
   "cell_type": "code",
   "execution_count": null,
   "id": "42120fe5",
   "metadata": {},
   "outputs": [],
   "source": []
  },
  {
   "cell_type": "code",
   "execution_count": null,
   "id": "dfa04378",
   "metadata": {},
   "outputs": [],
   "source": []
  },
  {
   "cell_type": "markdown",
   "id": "14d5c737",
   "metadata": {},
   "source": [
    "# Mathematical Operations of Strings"
   ]
  },
  {
   "cell_type": "code",
   "execution_count": null,
   "id": "4afc3704",
   "metadata": {},
   "outputs": [],
   "source": []
  },
  {
   "cell_type": "code",
   "execution_count": 147,
   "id": "5bd2584e",
   "metadata": {},
   "outputs": [
    {
     "data": {
      "text/plain": [
       "'veeraprasad'"
      ]
     },
     "execution_count": 147,
     "metadata": {},
     "output_type": "execute_result"
    }
   ],
   "source": [
    "first=\"veera\"\n",
    "second=\"prasad\"\n",
    "first+second"
   ]
  },
  {
   "cell_type": "code",
   "execution_count": 148,
   "id": "e25f4408",
   "metadata": {},
   "outputs": [
    {
     "data": {
      "text/plain": [
       "'veeraprasad'"
      ]
     },
     "execution_count": 148,
     "metadata": {},
     "output_type": "execute_result"
    }
   ],
   "source": [
    "a=\"veera\"\n",
    "b=\"prasad\"\n",
    "a+b"
   ]
  },
  {
   "cell_type": "code",
   "execution_count": 149,
   "id": "6018b141",
   "metadata": {},
   "outputs": [
    {
     "data": {
      "text/plain": [
       "'chanduchanduchandu'"
      ]
     },
     "execution_count": 149,
     "metadata": {},
     "output_type": "execute_result"
    }
   ],
   "source": [
    "veera*3"
   ]
  },
  {
   "cell_type": "code",
   "execution_count": 150,
   "id": "1f72708f",
   "metadata": {},
   "outputs": [
    {
     "data": {
      "text/plain": [
       "'veeraveeraveera'"
      ]
     },
     "execution_count": 150,
     "metadata": {},
     "output_type": "execute_result"
    }
   ],
   "source": [
    "veera=\"veera\"\n",
    "veera*3"
   ]
  },
  {
   "cell_type": "code",
   "execution_count": null,
   "id": "f0e4f940",
   "metadata": {},
   "outputs": [],
   "source": []
  },
  {
   "cell_type": "markdown",
   "id": "12147230",
   "metadata": {},
   "source": [
    "# COMMENTS"
   ]
  },
  {
   "cell_type": "code",
   "execution_count": null,
   "id": "457deb68",
   "metadata": {},
   "outputs": [],
   "source": [
    "1.Single Line Comments"
   ]
  },
  {
   "cell_type": "code",
   "execution_count": null,
   "id": "e12d4f60",
   "metadata": {},
   "outputs": [],
   "source": [
    "2.Muti-Line Comments"
   ]
  },
  {
   "cell_type": "code",
   "execution_count": null,
   "id": "e1526046",
   "metadata": {},
   "outputs": [],
   "source": [
    "#Single line Comments"
   ]
  },
  {
   "cell_type": "code",
   "execution_count": null,
   "id": "a1bff28a",
   "metadata": {},
   "outputs": [],
   "source": [
    "EX:#This is a function"
   ]
  },
  {
   "cell_type": "code",
   "execution_count": null,
   "id": "d40376ce",
   "metadata": {},
   "outputs": [],
   "source": [
    "#Multi-Line Comments"
   ]
  },
  {
   "cell_type": "code",
   "execution_count": null,
   "id": "b46396f6",
   "metadata": {},
   "outputs": [],
   "source": [
    "EX:adding multiple lines are created by adding delimeter(\"\"\") on each end of the comment."
   ]
  },
  {
   "cell_type": "code",
   "execution_count": null,
   "id": "a47e87a9",
   "metadata": {},
   "outputs": [],
   "source": []
  },
  {
   "cell_type": "code",
   "execution_count": 157,
   "id": "febb412b",
   "metadata": {},
   "outputs": [
    {
     "ename": "SyntaxError",
     "evalue": "invalid syntax (<ipython-input-157-ebe640f845ab>, line 1)",
     "output_type": "error",
     "traceback": [
      "\u001b[1;36m  File \u001b[1;32m\"<ipython-input-157-ebe640f845ab>\"\u001b[1;36m, line \u001b[1;32m1\u001b[0m\n\u001b[1;33m    def x is 360:\u001b[0m\n\u001b[1;37m          ^\u001b[0m\n\u001b[1;31mSyntaxError\u001b[0m\u001b[1;31m:\u001b[0m invalid syntax\n"
     ]
    }
   ],
   "source": []
  },
  {
   "cell_type": "code",
   "execution_count": null,
   "id": "9f082d76",
   "metadata": {},
   "outputs": [],
   "source": []
  },
  {
   "cell_type": "code",
   "execution_count": null,
   "id": "c50f1dc9",
   "metadata": {},
   "outputs": [],
   "source": []
  },
  {
   "cell_type": "code",
   "execution_count": null,
   "id": "b76017be",
   "metadata": {},
   "outputs": [],
   "source": []
  },
  {
   "cell_type": "code",
   "execution_count": null,
   "id": "c263b5e9",
   "metadata": {},
   "outputs": [],
   "source": []
  },
  {
   "cell_type": "code",
   "execution_count": null,
   "id": "7c86e9ff",
   "metadata": {},
   "outputs": [],
   "source": []
  },
  {
   "cell_type": "code",
   "execution_count": null,
   "id": "adc3ea41",
   "metadata": {},
   "outputs": [],
   "source": []
  },
  {
   "cell_type": "markdown",
   "id": "867650fe",
   "metadata": {},
   "source": [
    "# STRINGS"
   ]
  },
  {
   "cell_type": "code",
   "execution_count": 9,
   "id": "cdd21356",
   "metadata": {},
   "outputs": [
    {
     "name": "stdout",
     "output_type": "stream",
     "text": [
      "chandu\n"
     ]
    }
   ],
   "source": [
    "print('chandu')"
   ]
  },
  {
   "cell_type": "code",
   "execution_count": 8,
   "id": "3dcfd951",
   "metadata": {},
   "outputs": [
    {
     "name": "stdout",
     "output_type": "stream",
     "text": [
      "chandu\n"
     ]
    }
   ],
   "source": [
    "print(\"chandu\")"
   ]
  },
  {
   "cell_type": "code",
   "execution_count": 4,
   "id": "8bed1167",
   "metadata": {},
   "outputs": [
    {
     "name": "stdout",
     "output_type": "stream",
     "text": [
      "chnadu\n"
     ]
    }
   ],
   "source": [
    "print(\"\"\"chnadu\"\"\")"
   ]
  },
  {
   "cell_type": "code",
   "execution_count": 6,
   "id": "04c1cfbc",
   "metadata": {},
   "outputs": [
    {
     "name": "stdout",
     "output_type": "stream",
     "text": [
      "\n",
      "chandu\n"
     ]
    }
   ],
   "source": [
    "print(\"\\nchandu\")"
   ]
  },
  {
   "cell_type": "code",
   "execution_count": 9,
   "id": "1cd7ab0e",
   "metadata": {},
   "outputs": [
    {
     "name": "stdout",
     "output_type": "stream",
     "text": [
      "\tchandu\n"
     ]
    }
   ],
   "source": [
    "print(\"\\tchandu\")"
   ]
  },
  {
   "cell_type": "code",
   "execution_count": 11,
   "id": "20de11fe",
   "metadata": {},
   "outputs": [
    {
     "name": "stdout",
     "output_type": "stream",
     "text": [
      "CHANDU\n"
     ]
    }
   ],
   "source": [
    "print(\"chandu\".upper())"
   ]
  },
  {
   "cell_type": "code",
   "execution_count": 12,
   "id": "fa45f247",
   "metadata": {},
   "outputs": [
    {
     "name": "stdout",
     "output_type": "stream",
     "text": [
      "chandu\n"
     ]
    }
   ],
   "source": [
    "print(\"chandu\".lower())"
   ]
  },
  {
   "cell_type": "code",
   "execution_count": 13,
   "id": "3ab72525",
   "metadata": {},
   "outputs": [
    {
     "name": "stdout",
     "output_type": "stream",
     "text": [
      "Chandu\n"
     ]
    }
   ],
   "source": [
    "print(\"chandu\".title())"
   ]
  },
  {
   "cell_type": "code",
   "execution_count": 14,
   "id": "312b7c30",
   "metadata": {},
   "outputs": [
    {
     "name": "stdout",
     "output_type": "stream",
     "text": [
      "\n",
      "CHANDU\n"
     ]
    }
   ],
   "source": [
    "print(\"\\nchandu\".upper())"
   ]
  },
  {
   "cell_type": "code",
   "execution_count": 16,
   "id": "10ff856e",
   "metadata": {},
   "outputs": [
    {
     "name": "stdout",
     "output_type": "stream",
     "text": [
      "\tCHANDU\n"
     ]
    }
   ],
   "source": [
    "print(\"\\tchandu\".upper())"
   ]
  },
  {
   "cell_type": "code",
   "execution_count": 17,
   "id": "a5d5fd98",
   "metadata": {},
   "outputs": [
    {
     "name": "stdout",
     "output_type": "stream",
     "text": [
      "\n",
      "chandu\n"
     ]
    }
   ],
   "source": [
    "print(\"\\nchandu\".lower())"
   ]
  },
  {
   "cell_type": "code",
   "execution_count": 18,
   "id": "577c4639",
   "metadata": {},
   "outputs": [
    {
     "name": "stdout",
     "output_type": "stream",
     "text": [
      "\tchandu\n"
     ]
    }
   ],
   "source": [
    "print(\"\\tchandu\".lower())"
   ]
  },
  {
   "cell_type": "code",
   "execution_count": 19,
   "id": "118d3fb7",
   "metadata": {},
   "outputs": [
    {
     "name": "stdout",
     "output_type": "stream",
     "text": [
      "\n",
      "Chandu\n"
     ]
    }
   ],
   "source": [
    "print(\"\\nchandu\".title())"
   ]
  },
  {
   "cell_type": "code",
   "execution_count": 20,
   "id": "c3f992a9",
   "metadata": {},
   "outputs": [
    {
     "name": "stdout",
     "output_type": "stream",
     "text": [
      "\tChandu\n"
     ]
    }
   ],
   "source": [
    "print(\"\\tchandu\".title())"
   ]
  },
  {
   "cell_type": "code",
   "execution_count": 23,
   "id": "b6e57c15",
   "metadata": {},
   "outputs": [
    {
     "name": "stdout",
     "output_type": "stream",
     "text": [
      "chandu\n"
     ]
    }
   ],
   "source": [
    "a=\"chandu\"\n",
    "print(a)"
   ]
  },
  {
   "cell_type": "code",
   "execution_count": 25,
   "id": "69851b0e",
   "metadata": {},
   "outputs": [
    {
     "name": "stdout",
     "output_type": "stream",
     "text": [
      "chandu\n"
     ]
    }
   ],
   "source": [
    "dear=\"chandu\"\n",
    "print(dear)"
   ]
  },
  {
   "cell_type": "code",
   "execution_count": 5,
   "id": "14d109c7",
   "metadata": {},
   "outputs": [
    {
     "name": "stdout",
     "output_type": "stream",
     "text": [
      "\n",
      "dear\n"
     ]
    }
   ],
   "source": [
    "print(\"\\ndear\")"
   ]
  },
  {
   "cell_type": "code",
   "execution_count": 32,
   "id": "7598f788",
   "metadata": {},
   "outputs": [
    {
     "name": "stdout",
     "output_type": "stream",
     "text": [
      "\tdear\n"
     ]
    }
   ],
   "source": [
    "print(\"\\tdear\")"
   ]
  },
  {
   "cell_type": "code",
   "execution_count": 33,
   "id": "53d30226",
   "metadata": {},
   "outputs": [
    {
     "name": "stdout",
     "output_type": "stream",
     "text": [
      "DEAR\n"
     ]
    }
   ],
   "source": [
    "print(\"dear\".upper())"
   ]
  },
  {
   "cell_type": "code",
   "execution_count": 34,
   "id": "471371ad",
   "metadata": {},
   "outputs": [
    {
     "name": "stdout",
     "output_type": "stream",
     "text": [
      "\n",
      "dear\n"
     ]
    }
   ],
   "source": [
    "print(\"dear\".lower())"
   ]
  },
  {
   "cell_type": "code",
   "execution_count": 36,
   "id": "512ee4bb",
   "metadata": {},
   "outputs": [
    {
     "name": "stdout",
     "output_type": "stream",
     "text": [
      "Dear\n"
     ]
    }
   ],
   "source": [
    "(\"dear\".title())"
   ]
  },
  {
   "cell_type": "code",
   "execution_count": 37,
   "id": "eff7ca1d",
   "metadata": {},
   "outputs": [
    {
     "name": "stdout",
     "output_type": "stream",
     "text": [
      "\n",
      "DEAR\n"
     ]
    }
   ],
   "source": [
    "print(\"\\ndear\".upper())"
   ]
  },
  {
   "cell_type": "code",
   "execution_count": 38,
   "id": "7cfc628e",
   "metadata": {},
   "outputs": [
    {
     "name": "stdout",
     "output_type": "stream",
     "text": [
      "\n",
      "dear\n"
     ]
    }
   ],
   "source": [
    "print(\"\\ndear\".lower())"
   ]
  },
  {
   "cell_type": "code",
   "execution_count": 39,
   "id": "8905f3e0",
   "metadata": {},
   "outputs": [
    {
     "name": "stdout",
     "output_type": "stream",
     "text": [
      "\n",
      "Dear\n"
     ]
    }
   ],
   "source": [
    "print(\"\\ndear\".title())"
   ]
  },
  {
   "cell_type": "code",
   "execution_count": 40,
   "id": "1aac19ac",
   "metadata": {},
   "outputs": [
    {
     "name": "stdout",
     "output_type": "stream",
     "text": [
      "\tDEAR\n"
     ]
    }
   ],
   "source": [
    "print(\"\\tdear\".upper())"
   ]
  },
  {
   "cell_type": "code",
   "execution_count": 41,
   "id": "79d82874",
   "metadata": {},
   "outputs": [
    {
     "name": "stdout",
     "output_type": "stream",
     "text": [
      "\tdear\n"
     ]
    }
   ],
   "source": [
    "print(\"\\tdear\".lower())"
   ]
  },
  {
   "cell_type": "code",
   "execution_count": 174,
   "id": "255eb057",
   "metadata": {},
   "outputs": [
    {
     "name": "stdout",
     "output_type": "stream",
     "text": [
      "\tDear\n"
     ]
    }
   ],
   "source": [
    "print(\"\\tdear\".title())"
   ]
  },
  {
   "cell_type": "markdown",
   "id": "86cddbed",
   "metadata": {},
   "source": [
    "# STRINGS METHODS/FUNCTIONS"
   ]
  },
  {
   "cell_type": "code",
   "execution_count": null,
   "id": "8544dbfe",
   "metadata": {},
   "outputs": [],
   "source": []
  },
  {
   "cell_type": "code",
   "execution_count": null,
   "id": "6e8fa30f",
   "metadata": {},
   "outputs": [],
   "source": []
  },
  {
   "cell_type": "code",
   "execution_count": 158,
   "id": "01450d1a",
   "metadata": {},
   "outputs": [
    {
     "name": "stdout",
     "output_type": "stream",
     "text": [
      "Dear\n"
     ]
    }
   ],
   "source": [
    "print(\"dear\".capitalize())"
   ]
  },
  {
   "cell_type": "code",
   "execution_count": 160,
   "id": "dd0c8ede",
   "metadata": {},
   "outputs": [
    {
     "name": "stdout",
     "output_type": "stream",
     "text": [
      "dear\n"
     ]
    }
   ],
   "source": [
    "print(\"dear\".casefold())"
   ]
  },
  {
   "cell_type": "code",
   "execution_count": 161,
   "id": "772ff2f5",
   "metadata": {},
   "outputs": [
    {
     "name": "stdout",
     "output_type": "stream",
     "text": [
      "False\n"
     ]
    }
   ],
   "source": [
    "print(\"dear\".istitle())"
   ]
  },
  {
   "cell_type": "code",
   "execution_count": 168,
   "id": "54daa67c",
   "metadata": {},
   "outputs": [
    {
     "name": "stdout",
     "output_type": "stream",
     "text": [
      "['chandu']\n"
     ]
    }
   ],
   "source": [
    "print(\"chandu\".split())"
   ]
  },
  {
   "cell_type": "code",
   "execution_count": 169,
   "id": "976e5632",
   "metadata": {},
   "outputs": [
    {
     "name": "stdout",
     "output_type": "stream",
     "text": [
      "['chandu,veera']\n"
     ]
    }
   ],
   "source": [
    "print(\"chandu,veera\".split())"
   ]
  },
  {
   "cell_type": "code",
   "execution_count": 171,
   "id": "654d5d94",
   "metadata": {},
   "outputs": [
    {
     "name": "stdout",
     "output_type": "stream",
     "text": [
      "chandu ['veera']\n"
     ]
    }
   ],
   "source": [
    "print(\"chandu\",\"veera\".splitlines())"
   ]
  },
  {
   "cell_type": "code",
   "execution_count": 172,
   "id": "0eac4255",
   "metadata": {},
   "outputs": [
    {
     "name": "stdout",
     "output_type": "stream",
     "text": [
      "chandu ['veera']\n"
     ]
    }
   ],
   "source": [
    "print(\"chandu\",veera.splitlines())"
   ]
  },
  {
   "cell_type": "code",
   "execution_count": 173,
   "id": "4dab09e4",
   "metadata": {},
   "outputs": [
    {
     "name": "stdout",
     "output_type": "stream",
     "text": [
      "['chandu,veera']\n"
     ]
    }
   ],
   "source": [
    "print(\"chandu,veera\".splitlines())"
   ]
  },
  {
   "cell_type": "code",
   "execution_count": null,
   "id": "52d37daa",
   "metadata": {},
   "outputs": [],
   "source": []
  },
  {
   "cell_type": "code",
   "execution_count": null,
   "id": "110cb357",
   "metadata": {},
   "outputs": [],
   "source": []
  },
  {
   "cell_type": "markdown",
   "id": "b0fe8db7",
   "metadata": {},
   "source": [
    "# INTRODUCTION  ABOUT FSTRINGS"
   ]
  },
  {
   "cell_type": "code",
   "execution_count": null,
   "id": "ea157602",
   "metadata": {},
   "outputs": [],
   "source": []
  },
  {
   "cell_type": "code",
   "execution_count": null,
   "id": "c5ceefba",
   "metadata": {},
   "outputs": [],
   "source": []
  },
  {
   "cell_type": "code",
   "execution_count": 2,
   "id": "ef69c0c1",
   "metadata": {},
   "outputs": [
    {
     "name": "stdout",
     "output_type": "stream",
     "text": [
      "Chanuveera\n"
     ]
    }
   ],
   "source": [
    "first_name=\"chanu\"\n",
    "last_name=\"veera\"\n",
    "full_name=f\"{first_name}{last_name}\"\n",
    "print(full_name.title())"
   ]
  },
  {
   "cell_type": "code",
   "execution_count": 3,
   "id": "57939579",
   "metadata": {},
   "outputs": [
    {
     "name": "stdout",
     "output_type": "stream",
     "text": [
      "CHANUVEERA\n"
     ]
    }
   ],
   "source": [
    "print(full_name.upper())"
   ]
  },
  {
   "cell_type": "code",
   "execution_count": null,
   "id": "4aad05d2",
   "metadata": {},
   "outputs": [],
   "source": [
    "##stripping methods"
   ]
  },
  {
   "cell_type": "code",
   "execution_count": null,
   "id": "af294873",
   "metadata": {},
   "outputs": [],
   "source": []
  },
  {
   "cell_type": "code",
   "execution_count": 4,
   "id": "6582ecee",
   "metadata": {},
   "outputs": [
    {
     "name": "stdout",
     "output_type": "stream",
     "text": [
      "chanduveera\n"
     ]
    }
   ],
   "source": [
    "fav_name=\"chanduveera\"\n",
    "print(fav_name)"
   ]
  },
  {
   "cell_type": "code",
   "execution_count": 5,
   "id": "7301cf36",
   "metadata": {},
   "outputs": [
    {
     "name": "stdout",
     "output_type": "stream",
     "text": [
      "chanduveera\n"
     ]
    }
   ],
   "source": [
    "print(fav_name.lstrip())"
   ]
  },
  {
   "cell_type": "code",
   "execution_count": 6,
   "id": "f411412b",
   "metadata": {},
   "outputs": [
    {
     "name": "stdout",
     "output_type": "stream",
     "text": [
      "chanduveera\n"
     ]
    }
   ],
   "source": [
    "print(fav_name.rstrip())"
   ]
  },
  {
   "cell_type": "code",
   "execution_count": null,
   "id": "75ebf5ea",
   "metadata": {},
   "outputs": [],
   "source": [
    "#OR#"
   ]
  },
  {
   "cell_type": "code",
   "execution_count": 8,
   "id": "e5e5c1b8",
   "metadata": {},
   "outputs": [
    {
     "name": "stdout",
     "output_type": "stream",
     "text": [
      "chanduveera\n",
      "chanduveera\n",
      "chanduveera\n"
     ]
    }
   ],
   "source": [
    "fav_name=\"chanduveera\"\n",
    "print(fav_name)\n",
    "print(fav_name.lstrip())\n",
    "print(fav_name.rstrip())"
   ]
  },
  {
   "cell_type": "code",
   "execution_count": null,
   "id": "655b376f",
   "metadata": {},
   "outputs": [],
   "source": []
  },
  {
   "cell_type": "code",
   "execution_count": 2,
   "id": "8b0f2e35",
   "metadata": {},
   "outputs": [
    {
     "name": "stdout",
     "output_type": "stream",
     "text": [
      "      chandu\n"
     ]
    }
   ],
   "source": [
    "fav_name=\"      chandu\"\n",
    "print(fav_name)\n"
   ]
  },
  {
   "cell_type": "code",
   "execution_count": 3,
   "id": "8876b078",
   "metadata": {},
   "outputs": [
    {
     "name": "stdout",
     "output_type": "stream",
     "text": [
      "chandu\n"
     ]
    }
   ],
   "source": [
    "print(fav_name.lstrip())"
   ]
  },
  {
   "cell_type": "code",
   "execution_count": 4,
   "id": "b3742914",
   "metadata": {},
   "outputs": [
    {
     "name": "stdout",
     "output_type": "stream",
     "text": [
      "      chandu\n"
     ]
    }
   ],
   "source": [
    "print(fav_name.rstrip())"
   ]
  },
  {
   "cell_type": "code",
   "execution_count": 7,
   "id": "1d90c813",
   "metadata": {},
   "outputs": [
    {
     "name": "stdout",
     "output_type": "stream",
     "text": [
      "      Chandu\n"
     ]
    }
   ],
   "source": [
    "print(fav_name.rstrip().title())"
   ]
  },
  {
   "cell_type": "code",
   "execution_count": 8,
   "id": "08a0299a",
   "metadata": {},
   "outputs": [
    {
     "name": "stdout",
     "output_type": "stream",
     "text": [
      "      CHANDU\n"
     ]
    }
   ],
   "source": [
    "print(fav_name.rstrip().title().upper())"
   ]
  },
  {
   "cell_type": "markdown",
   "id": "08e0bd6f",
   "metadata": {},
   "source": [
    "# STRING METHODS"
   ]
  },
  {
   "cell_type": "code",
   "execution_count": null,
   "id": "9653330b",
   "metadata": {},
   "outputs": [],
   "source": []
  },
  {
   "cell_type": "code",
   "execution_count": null,
   "id": "1ff8a6f6",
   "metadata": {},
   "outputs": [],
   "source": []
  },
  {
   "cell_type": "code",
   "execution_count": null,
   "id": "0e080fce",
   "metadata": {},
   "outputs": [],
   "source": []
  },
  {
   "cell_type": "code",
   "execution_count": null,
   "id": "50a23974",
   "metadata": {},
   "outputs": [],
   "source": []
  },
  {
   "cell_type": "code",
   "execution_count": null,
   "id": "60af87f7",
   "metadata": {},
   "outputs": [],
   "source": []
  },
  {
   "cell_type": "code",
   "execution_count": null,
   "id": "5ae08a62",
   "metadata": {},
   "outputs": [],
   "source": []
  },
  {
   "cell_type": "code",
   "execution_count": null,
   "id": "a571c42e",
   "metadata": {},
   "outputs": [],
   "source": []
  },
  {
   "cell_type": "code",
   "execution_count": null,
   "id": "40b9ad12",
   "metadata": {},
   "outputs": [],
   "source": []
  },
  {
   "cell_type": "code",
   "execution_count": null,
   "id": "1967b012",
   "metadata": {},
   "outputs": [],
   "source": []
  },
  {
   "cell_type": "code",
   "execution_count": null,
   "id": "275302ea",
   "metadata": {},
   "outputs": [],
   "source": []
  },
  {
   "cell_type": "code",
   "execution_count": null,
   "id": "564a81f9",
   "metadata": {},
   "outputs": [],
   "source": []
  },
  {
   "cell_type": "markdown",
   "id": "cecd4eff",
   "metadata": {},
   "source": [
    "# INTRODUCTION  ABOUT LIST OF DATA TYPES"
   ]
  },
  {
   "cell_type": "markdown",
   "id": "111805c0",
   "metadata": {},
   "source": [
    "DATA TYPES:"
   ]
  },
  {
   "cell_type": "code",
   "execution_count": null,
   "id": "6c699305",
   "metadata": {},
   "outputs": [],
   "source": []
  },
  {
   "cell_type": "code",
   "execution_count": null,
   "id": "74b247e2",
   "metadata": {},
   "outputs": [],
   "source": [
    "##ACCESS ELEMENTS FROM THE LIST#"
   ]
  },
  {
   "cell_type": "code",
   "execution_count": 1,
   "id": "85a3fca1",
   "metadata": {},
   "outputs": [
    {
     "name": "stdout",
     "output_type": "stream",
     "text": [
      "\n"
     ]
    }
   ],
   "source": [
    "lovers=[]\n",
    "print()"
   ]
  },
  {
   "cell_type": "code",
   "execution_count": 3,
   "id": "9f507063",
   "metadata": {},
   "outputs": [
    {
     "name": "stdout",
     "output_type": "stream",
     "text": [
      "[1, 2, 3]\n"
     ]
    }
   ],
   "source": [
    "numbers=[1,2,3]\n",
    "print(numbers)"
   ]
  },
  {
   "cell_type": "code",
   "execution_count": 8,
   "id": "878b50c4",
   "metadata": {},
   "outputs": [
    {
     "name": "stdout",
     "output_type": "stream",
     "text": [
      "['chandu', 'veera']\n"
     ]
    }
   ],
   "source": [
    "lovers=[\"chandu\",\"veera\"]\n",
    "print(lovers)"
   ]
  },
  {
   "cell_type": "code",
   "execution_count": 10,
   "id": "cd42f3c6",
   "metadata": {},
   "outputs": [
    {
     "name": "stdout",
     "output_type": "stream",
     "text": [
      "chandu\n"
     ]
    }
   ],
   "source": [
    "print(lovers[0])"
   ]
  },
  {
   "cell_type": "code",
   "execution_count": 11,
   "id": "e81bb096",
   "metadata": {},
   "outputs": [
    {
     "name": "stdout",
     "output_type": "stream",
     "text": [
      "veera\n"
     ]
    }
   ],
   "source": [
    "print(lovers[1])"
   ]
  },
  {
   "cell_type": "code",
   "execution_count": 12,
   "id": "97c22b58",
   "metadata": {},
   "outputs": [
    {
     "name": "stdout",
     "output_type": "stream",
     "text": [
      "CHANDU\n"
     ]
    }
   ],
   "source": [
    "print(lovers[0].upper())"
   ]
  },
  {
   "cell_type": "code",
   "execution_count": 15,
   "id": "6cf54037",
   "metadata": {},
   "outputs": [
    {
     "name": "stdout",
     "output_type": "stream",
     "text": [
      "c\n"
     ]
    }
   ],
   "source": [
    "print(lovers[0][0])"
   ]
  },
  {
   "cell_type": "code",
   "execution_count": 16,
   "id": "fab9eb1e",
   "metadata": {},
   "outputs": [
    {
     "name": "stdout",
     "output_type": "stream",
     "text": [
      "h\n"
     ]
    }
   ],
   "source": [
    "print(lovers[0][1])"
   ]
  },
  {
   "cell_type": "code",
   "execution_count": 17,
   "id": "e84eea5b",
   "metadata": {},
   "outputs": [
    {
     "name": "stdout",
     "output_type": "stream",
     "text": [
      "v\n"
     ]
    }
   ],
   "source": [
    "print(lovers[1][0])"
   ]
  },
  {
   "cell_type": "code",
   "execution_count": null,
   "id": "24413d1d",
   "metadata": {},
   "outputs": [],
   "source": [
    "#NEGATIVE INDEXING#"
   ]
  },
  {
   "cell_type": "code",
   "execution_count": 3,
   "id": "9072131b",
   "metadata": {},
   "outputs": [
    {
     "name": "stdout",
     "output_type": "stream",
     "text": [
      "veera\n"
     ]
    }
   ],
   "source": [
    "lovers=[\"chandu\",\"veera\"]\n",
    "print(lovers[-1])"
   ]
  },
  {
   "cell_type": "code",
   "execution_count": 4,
   "id": "280ca4a3",
   "metadata": {},
   "outputs": [
    {
     "name": "stdout",
     "output_type": "stream",
     "text": [
      "chandu\n"
     ]
    }
   ],
   "source": [
    "print(lovers[-2])"
   ]
  },
  {
   "cell_type": "code",
   "execution_count": 6,
   "id": "3894ad2e",
   "metadata": {},
   "outputs": [
    {
     "name": "stdout",
     "output_type": "stream",
     "text": [
      "a\n"
     ]
    }
   ],
   "source": [
    "print(lovers[-1][-1])"
   ]
  },
  {
   "cell_type": "code",
   "execution_count": 7,
   "id": "a1c27bc5",
   "metadata": {},
   "outputs": [
    {
     "name": "stdout",
     "output_type": "stream",
     "text": [
      "r\n"
     ]
    }
   ],
   "source": [
    "print(lovers[-1][-2])"
   ]
  },
  {
   "cell_type": "code",
   "execution_count": 8,
   "id": "920934ac",
   "metadata": {},
   "outputs": [
    {
     "name": "stdout",
     "output_type": "stream",
     "text": [
      "u\n"
     ]
    }
   ],
   "source": [
    "print(lovers[-2][-1])"
   ]
  },
  {
   "cell_type": "code",
   "execution_count": null,
   "id": "34763939",
   "metadata": {},
   "outputs": [],
   "source": []
  },
  {
   "cell_type": "code",
   "execution_count": null,
   "id": "4505c5ae",
   "metadata": {},
   "outputs": [],
   "source": [
    "##SLICING THE LIST#"
   ]
  },
  {
   "cell_type": "code",
   "execution_count": 10,
   "id": "0a4c24d4",
   "metadata": {},
   "outputs": [
    {
     "name": "stdout",
     "output_type": "stream",
     "text": [
      "['veera']\n"
     ]
    }
   ],
   "source": [
    "print(lovers[1:2])"
   ]
  },
  {
   "cell_type": "code",
   "execution_count": 11,
   "id": "eceb758f",
   "metadata": {},
   "outputs": [
    {
     "name": "stdout",
     "output_type": "stream",
     "text": [
      "['c', 'h', 'a', 'n', 'd', 'u']\n"
     ]
    }
   ],
   "source": [
    "lover=[\"c\",\"h\",\"a\",\"n\",\"d\",\"u\"]\n",
    "print(lover)"
   ]
  },
  {
   "cell_type": "code",
   "execution_count": 12,
   "id": "e4dcc023",
   "metadata": {},
   "outputs": [
    {
     "name": "stdout",
     "output_type": "stream",
     "text": [
      "['h', 'a', 'n', 'd']\n"
     ]
    }
   ],
   "source": [
    "print(lover[1:5])"
   ]
  },
  {
   "cell_type": "code",
   "execution_count": 13,
   "id": "5d0fc0d3",
   "metadata": {},
   "outputs": [
    {
     "name": "stdout",
     "output_type": "stream",
     "text": [
      "['h', 'a', 'n', 'd', 'u']\n"
     ]
    }
   ],
   "source": [
    "print(lover[1:])"
   ]
  },
  {
   "cell_type": "code",
   "execution_count": 14,
   "id": "1eb2f97b",
   "metadata": {},
   "outputs": [
    {
     "name": "stdout",
     "output_type": "stream",
     "text": [
      "['c', 'h', 'a', 'n', 'd']\n"
     ]
    }
   ],
   "source": [
    "print(lover[:5])"
   ]
  },
  {
   "cell_type": "code",
   "execution_count": 15,
   "id": "27e1dcff",
   "metadata": {},
   "outputs": [
    {
     "name": "stdout",
     "output_type": "stream",
     "text": [
      "[]\n"
     ]
    }
   ],
   "source": [
    "print(lover[-1:-5])"
   ]
  },
  {
   "cell_type": "code",
   "execution_count": 16,
   "id": "e3263d4e",
   "metadata": {},
   "outputs": [
    {
     "name": "stdout",
     "output_type": "stream",
     "text": [
      "[]\n"
     ]
    }
   ],
   "source": [
    "print(lover[-1:-3])"
   ]
  },
  {
   "cell_type": "code",
   "execution_count": 18,
   "id": "38170618",
   "metadata": {},
   "outputs": [
    {
     "name": "stdout",
     "output_type": "stream",
     "text": [
      "['c', 'h', 'a', 'n', 'd', 'u']\n"
     ]
    }
   ],
   "source": [
    "print(lover[:])"
   ]
  },
  {
   "cell_type": "code",
   "execution_count": null,
   "id": "1fec8518",
   "metadata": {},
   "outputs": [],
   "source": [
    "p"
   ]
  },
  {
   "cell_type": "code",
   "execution_count": null,
   "id": "db2c0e6c",
   "metadata": {},
   "outputs": [],
   "source": []
  },
  {
   "cell_type": "markdown",
   "id": "e0250090",
   "metadata": {},
   "source": [
    "##CHANGE OR ADDING THE ELEMENTS"
   ]
  },
  {
   "cell_type": "code",
   "execution_count": 28,
   "id": "b9a5e114",
   "metadata": {},
   "outputs": [],
   "source": [
    "lover[5]=[\"h\"]"
   ]
  },
  {
   "cell_type": "code",
   "execution_count": 29,
   "id": "99451175",
   "metadata": {},
   "outputs": [
    {
     "name": "stdout",
     "output_type": "stream",
     "text": [
      "['c', 'h', 'a', 'n', 'd', ['h']]\n"
     ]
    }
   ],
   "source": [
    "print(lover)"
   ]
  },
  {
   "cell_type": "code",
   "execution_count": null,
   "id": "9d612c2a",
   "metadata": {},
   "outputs": [],
   "source": []
  },
  {
   "cell_type": "markdown",
   "id": "ab39e6f7",
   "metadata": {},
   "source": [
    "# LIST  METHODS"
   ]
  },
  {
   "cell_type": "markdown",
   "id": "fd1d1b79",
   "metadata": {},
   "source": [
    "1."
   ]
  },
  {
   "cell_type": "code",
   "execution_count": null,
   "id": "6d758c67",
   "metadata": {},
   "outputs": [],
   "source": []
  },
  {
   "cell_type": "code",
   "execution_count": null,
   "id": "f87aa581",
   "metadata": {},
   "outputs": [],
   "source": []
  },
  {
   "cell_type": "code",
   "execution_count": 8,
   "id": "3df01fc7",
   "metadata": {},
   "outputs": [
    {
     "name": "stdout",
     "output_type": "stream",
     "text": [
      "['chandu', 'veera', 'sarma']\n"
     ]
    }
   ],
   "source": [
    "friends=[\"chandu\",\"veera\",\"sarma\"]\n",
    "print(friends)"
   ]
  },
  {
   "cell_type": "code",
   "execution_count": 6,
   "id": "cda93460",
   "metadata": {},
   "outputs": [],
   "source": [
    "friends.sort()"
   ]
  },
  {
   "cell_type": "code",
   "execution_count": 9,
   "id": "4b473174",
   "metadata": {},
   "outputs": [
    {
     "name": "stdout",
     "output_type": "stream",
     "text": [
      "['chandu', 'sarma', 'veera']\n"
     ]
    }
   ],
   "source": [
    "print(friends)"
   ]
  },
  {
   "cell_type": "code",
   "execution_count": 12,
   "id": "84008409",
   "metadata": {},
   "outputs": [],
   "source": [
    "friends.reverse()"
   ]
  },
  {
   "cell_type": "code",
   "execution_count": 13,
   "id": "85fce603",
   "metadata": {},
   "outputs": [
    {
     "name": "stdout",
     "output_type": "stream",
     "text": [
      "['veera', 'sarma', 'chandu']\n"
     ]
    }
   ],
   "source": [
    "print(friends)"
   ]
  },
  {
   "cell_type": "code",
   "execution_count": 14,
   "id": "c9a810ff",
   "metadata": {},
   "outputs": [
    {
     "data": {
      "text/plain": [
       "3"
      ]
     },
     "execution_count": 14,
     "metadata": {},
     "output_type": "execute_result"
    }
   ],
   "source": [
    "len(friends)"
   ]
  },
  {
   "cell_type": "code",
   "execution_count": null,
   "id": "45073253",
   "metadata": {},
   "outputs": [],
   "source": []
  },
  {
   "cell_type": "markdown",
   "id": "281e5bf9",
   "metadata": {},
   "source": [
    "# INTRODUCTION ABOUT TUPLE DATA TYPE"
   ]
  },
  {
   "cell_type": "code",
   "execution_count": null,
   "id": "5f398eeb",
   "metadata": {},
   "outputs": [],
   "source": []
  },
  {
   "cell_type": "code",
   "execution_count": null,
   "id": "656c1aa1",
   "metadata": {},
   "outputs": [],
   "source": []
  },
  {
   "cell_type": "code",
   "execution_count": null,
   "id": "c0c33f46",
   "metadata": {},
   "outputs": [],
   "source": []
  },
  {
   "cell_type": "code",
   "execution_count": null,
   "id": "5570f47b",
   "metadata": {},
   "outputs": [],
   "source": []
  },
  {
   "cell_type": "code",
   "execution_count": null,
   "id": "e592ab29",
   "metadata": {},
   "outputs": [],
   "source": []
  },
  {
   "cell_type": "markdown",
   "id": "a0893a9b",
   "metadata": {},
   "source": [
    "   0,1,   2   ,   3   ,4,    5\n",
    "a=(1,2,\"veera\",\"sarma\",3,\"chandu\")\n",
    "  -6,-5, -4   , -3    ,-2, -1"
   ]
  },
  {
   "cell_type": "code",
   "execution_count": 23,
   "id": "815a8dca",
   "metadata": {},
   "outputs": [
    {
     "name": "stdout",
     "output_type": "stream",
     "text": [
      "(1, 2, 'veera', 'sarma', 3, 'chandu')\n"
     ]
    }
   ],
   "source": [
    "print(a)"
   ]
  },
  {
   "cell_type": "code",
   "execution_count": 2,
   "id": "1da2cb0b",
   "metadata": {},
   "outputs": [
    {
     "data": {
      "text/plain": [
       "tuple"
      ]
     },
     "execution_count": 2,
     "metadata": {},
     "output_type": "execute_result"
    }
   ],
   "source": [
    "type(a)"
   ]
  },
  {
   "cell_type": "code",
   "execution_count": 3,
   "id": "571c7713",
   "metadata": {},
   "outputs": [
    {
     "name": "stdout",
     "output_type": "stream",
     "text": [
      "1\n"
     ]
    }
   ],
   "source": [
    "print(a[0])"
   ]
  },
  {
   "cell_type": "code",
   "execution_count": null,
   "id": "d1e9a335",
   "metadata": {},
   "outputs": [],
   "source": [
    "##slicing the tuple"
   ]
  },
  {
   "cell_type": "code",
   "execution_count": 4,
   "id": "257de77b",
   "metadata": {},
   "outputs": [
    {
     "name": "stdout",
     "output_type": "stream",
     "text": [
      "(2, 'veera', 'sarma', 3)\n"
     ]
    }
   ],
   "source": [
    "print(a[1:5])"
   ]
  },
  {
   "cell_type": "code",
   "execution_count": 12,
   "id": "0133f93f",
   "metadata": {},
   "outputs": [
    {
     "name": "stdout",
     "output_type": "stream",
     "text": [
      "()\n"
     ]
    }
   ],
   "source": [
    "print(a[5:1])"
   ]
  },
  {
   "cell_type": "code",
   "execution_count": 16,
   "id": "2d6aa61f",
   "metadata": {},
   "outputs": [
    {
     "name": "stdout",
     "output_type": "stream",
     "text": [
      "2\n"
     ]
    }
   ],
   "source": [
    "print(a[1])"
   ]
  },
  {
   "cell_type": "code",
   "execution_count": 17,
   "id": "69794c31",
   "metadata": {},
   "outputs": [
    {
     "name": "stdout",
     "output_type": "stream",
     "text": [
      "(2, 'veera', 'sarma', 3, 'chandu')\n"
     ]
    }
   ],
   "source": [
    "print(a[1:])"
   ]
  },
  {
   "cell_type": "code",
   "execution_count": 18,
   "id": "051432c6",
   "metadata": {},
   "outputs": [
    {
     "name": "stdout",
     "output_type": "stream",
     "text": [
      "(1, 2, 'veera', 'sarma', 3)\n"
     ]
    }
   ],
   "source": [
    "print(a[:5])"
   ]
  },
  {
   "cell_type": "code",
   "execution_count": 7,
   "id": "a26408da",
   "metadata": {},
   "outputs": [
    {
     "name": "stdout",
     "output_type": "stream",
     "text": [
      "chandu\n"
     ]
    }
   ],
   "source": [
    "print(a[-1])"
   ]
  },
  {
   "cell_type": "code",
   "execution_count": 10,
   "id": "4c8f6382",
   "metadata": {},
   "outputs": [
    {
     "name": "stdout",
     "output_type": "stream",
     "text": [
      "()\n"
     ]
    }
   ],
   "source": [
    "print(a[-1:-5])"
   ]
  },
  {
   "cell_type": "code",
   "execution_count": 11,
   "id": "b06f54e5",
   "metadata": {},
   "outputs": [
    {
     "name": "stdout",
     "output_type": "stream",
     "text": [
      "1\n"
     ]
    }
   ],
   "source": [
    "print(a[-6])"
   ]
  },
  {
   "cell_type": "code",
   "execution_count": 12,
   "id": "e5e795b0",
   "metadata": {},
   "outputs": [
    {
     "name": "stdout",
     "output_type": "stream",
     "text": [
      "(1, 2, 'veera', 'sarma', 3)\n"
     ]
    }
   ],
   "source": [
    "print(a[-6:-1])"
   ]
  },
  {
   "cell_type": "code",
   "execution_count": 13,
   "id": "d4854aa8",
   "metadata": {},
   "outputs": [
    {
     "name": "stdout",
     "output_type": "stream",
     "text": [
      "(2,)\n"
     ]
    }
   ],
   "source": [
    "print(a[1:3:5])"
   ]
  },
  {
   "cell_type": "code",
   "execution_count": 14,
   "id": "f743d1cb",
   "metadata": {},
   "outputs": [
    {
     "name": "stdout",
     "output_type": "stream",
     "text": [
      "(2, 3)\n"
     ]
    }
   ],
   "source": [
    "print(a[1:5:3])"
   ]
  },
  {
   "cell_type": "code",
   "execution_count": null,
   "id": "4a4e3a4e",
   "metadata": {},
   "outputs": [],
   "source": []
  },
  {
   "cell_type": "code",
   "execution_count": 2,
   "id": "8f5a8283",
   "metadata": {},
   "outputs": [],
   "source": [
    "a=(1,3,25,7,5,9,10)\n",
    "b=(2,4,12,11,20,15,55)\n",
    "c=a+b"
   ]
  },
  {
   "cell_type": "code",
   "execution_count": 3,
   "id": "3702193b",
   "metadata": {},
   "outputs": [
    {
     "name": "stdout",
     "output_type": "stream",
     "text": [
      "(1, 3, 25, 7, 5, 9, 10, 2, 4, 12, 11, 20, 15, 55)\n"
     ]
    }
   ],
   "source": [
    "print(c)"
   ]
  },
  {
   "cell_type": "code",
   "execution_count": null,
   "id": "007581dd",
   "metadata": {},
   "outputs": [],
   "source": []
  },
  {
   "cell_type": "code",
   "execution_count": 8,
   "id": "5c7489e0",
   "metadata": {},
   "outputs": [],
   "source": [
    "a=()"
   ]
  },
  {
   "cell_type": "code",
   "execution_count": 6,
   "id": "d3ac2f77",
   "metadata": {},
   "outputs": [
    {
     "name": "stdout",
     "output_type": "stream",
     "text": [
      "()\n"
     ]
    }
   ],
   "source": [
    "print(a)"
   ]
  },
  {
   "cell_type": "code",
   "execution_count": 7,
   "id": "b365d273",
   "metadata": {},
   "outputs": [
    {
     "data": {
      "text/plain": [
       "tuple"
      ]
     },
     "execution_count": 7,
     "metadata": {},
     "output_type": "execute_result"
    }
   ],
   "source": [
    "type(a)"
   ]
  },
  {
   "cell_type": "code",
   "execution_count": 11,
   "id": "ea215691",
   "metadata": {},
   "outputs": [],
   "source": [
    "a=(5)"
   ]
  },
  {
   "cell_type": "code",
   "execution_count": 10,
   "id": "8348d4b3",
   "metadata": {},
   "outputs": [
    {
     "name": "stdout",
     "output_type": "stream",
     "text": [
      "5\n"
     ]
    }
   ],
   "source": [
    "print(a)"
   ]
  },
  {
   "cell_type": "code",
   "execution_count": 12,
   "id": "4b8298b5",
   "metadata": {},
   "outputs": [
    {
     "data": {
      "text/plain": [
       "int"
      ]
     },
     "execution_count": 12,
     "metadata": {},
     "output_type": "execute_result"
    }
   ],
   "source": [
    "type(a)"
   ]
  },
  {
   "cell_type": "code",
   "execution_count": 1,
   "id": "b5d6e701",
   "metadata": {},
   "outputs": [
    {
     "name": "stdout",
     "output_type": "stream",
     "text": [
      "(5,)\n"
     ]
    }
   ],
   "source": [
    "a=(5,)\n",
    "print(a)"
   ]
  },
  {
   "cell_type": "code",
   "execution_count": 2,
   "id": "ab7a88a3",
   "metadata": {},
   "outputs": [
    {
     "data": {
      "text/plain": [
       "tuple"
      ]
     },
     "execution_count": 2,
     "metadata": {},
     "output_type": "execute_result"
    }
   ],
   "source": [
    "type(a)"
   ]
  },
  {
   "cell_type": "code",
   "execution_count": null,
   "id": "2b2beca8",
   "metadata": {},
   "outputs": [],
   "source": []
  },
  {
   "cell_type": "code",
   "execution_count": null,
   "id": "3c2ea4fa",
   "metadata": {},
   "outputs": [],
   "source": [
    "##updating the elements"
   ]
  },
  {
   "cell_type": "code",
   "execution_count": 3,
   "id": "14f3d380",
   "metadata": {},
   "outputs": [],
   "source": [
    "a=(1,3,25,7,5,9,10)\n",
    "b=(2,4,12,11,20,15,55)\n",
    "c=a+b"
   ]
  },
  {
   "cell_type": "code",
   "execution_count": 4,
   "id": "c2abce03",
   "metadata": {},
   "outputs": [
    {
     "name": "stdout",
     "output_type": "stream",
     "text": [
      "(1, 3, 25, 7, 5, 9, 10, 2, 4, 12, 11, 20, 15, 55)\n"
     ]
    }
   ],
   "source": [
    "print(c)"
   ]
  },
  {
   "cell_type": "code",
   "execution_count": 19,
   "id": "ef6c9d3f",
   "metadata": {},
   "outputs": [
    {
     "name": "stdout",
     "output_type": "stream",
     "text": [
      "('america', 'australia', 'paris', 'switzerland')\n"
     ]
    }
   ],
   "source": [
    "abroad=(\"america\",\"australia\",\"paris\",\"switzerland\")\n",
    "print(abroad)"
   ]
  },
  {
   "cell_type": "code",
   "execution_count": 20,
   "id": "de487b21",
   "metadata": {},
   "outputs": [
    {
     "data": {
      "text/plain": [
       "tuple"
      ]
     },
     "execution_count": 20,
     "metadata": {},
     "output_type": "execute_result"
    }
   ],
   "source": [
    "type(abroad)"
   ]
  },
  {
   "cell_type": "code",
   "execution_count": null,
   "id": "a0cf61d8",
   "metadata": {},
   "outputs": [],
   "source": []
  },
  {
   "cell_type": "code",
   "execution_count": null,
   "id": "78bd4e87",
   "metadata": {},
   "outputs": [],
   "source": [
    "##delete the elements"
   ]
  },
  {
   "cell_type": "code",
   "execution_count": null,
   "id": "71aa2bf5",
   "metadata": {},
   "outputs": [],
   "source": [
    "1.POP\n",
    "2.DELETE\n",
    "3.REMOVE"
   ]
  },
  {
   "cell_type": "code",
   "execution_count": null,
   "id": "187c0af7",
   "metadata": {},
   "outputs": [],
   "source": [
    "syntax:del dimensions"
   ]
  },
  {
   "cell_type": "code",
   "execution_count": null,
   "id": "78eb9058",
   "metadata": {},
   "outputs": [],
   "source": [
    "print(dimensions)"
   ]
  },
  {
   "cell_type": "code",
   "execution_count": 5,
   "id": "ac550ad2",
   "metadata": {},
   "outputs": [
    {
     "name": "stdout",
     "output_type": "stream",
     "text": [
      "(11, 25, 64)\n"
     ]
    }
   ],
   "source": [
    "c=(11,25,64)\n",
    "print(c)"
   ]
  },
  {
   "cell_type": "code",
   "execution_count": 7,
   "id": "c25508bb",
   "metadata": {},
   "outputs": [],
   "source": [
    "del c"
   ]
  },
  {
   "cell_type": "code",
   "execution_count": 8,
   "id": "f452bab8",
   "metadata": {},
   "outputs": [
    {
     "ename": "NameError",
     "evalue": "name 'c' is not defined",
     "output_type": "error",
     "traceback": [
      "\u001b[1;31m---------------------------------------------------------------------------\u001b[0m",
      "\u001b[1;31mNameError\u001b[0m                                 Traceback (most recent call last)",
      "\u001b[1;32m<ipython-input-8-1dd5973cae19>\u001b[0m in \u001b[0;36m<module>\u001b[1;34m\u001b[0m\n\u001b[1;32m----> 1\u001b[1;33m \u001b[0mprint\u001b[0m\u001b[1;33m(\u001b[0m\u001b[0mc\u001b[0m\u001b[1;33m)\u001b[0m\u001b[1;33m\u001b[0m\u001b[1;33m\u001b[0m\u001b[0m\n\u001b[0m",
      "\u001b[1;31mNameError\u001b[0m: name 'c' is not defined"
     ]
    }
   ],
   "source": [
    "print(c)"
   ]
  },
  {
   "cell_type": "code",
   "execution_count": null,
   "id": "8f133581",
   "metadata": {},
   "outputs": [],
   "source": []
  },
  {
   "cell_type": "code",
   "execution_count": 9,
   "id": "d95e3d99",
   "metadata": {},
   "outputs": [
    {
     "name": "stdout",
     "output_type": "stream",
     "text": [
      "('america', 'australia', 'paris', 'switzerland')\n"
     ]
    }
   ],
   "source": [
    "abroad=(\"america\",\"australia\",\"paris\",\"switzerland\")\n",
    "print(abroad)"
   ]
  },
  {
   "cell_type": "code",
   "execution_count": 11,
   "id": "ac5063c8",
   "metadata": {},
   "outputs": [
    {
     "data": {
      "text/plain": [
       "tuple"
      ]
     },
     "execution_count": 11,
     "metadata": {},
     "output_type": "execute_result"
    }
   ],
   "source": [
    "type(abroad)"
   ]
  },
  {
   "cell_type": "code",
   "execution_count": null,
   "id": "2ff7d13b",
   "metadata": {},
   "outputs": [],
   "source": []
  },
  {
   "cell_type": "code",
   "execution_count": null,
   "id": "893dfec1",
   "metadata": {},
   "outputs": [],
   "source": []
  },
  {
   "cell_type": "markdown",
   "id": "e0dfdba3",
   "metadata": {},
   "source": [
    "# INTRODUCTION  ABOUT  DICTIONARY  DATA  TYPE"
   ]
  },
  {
   "cell_type": "code",
   "execution_count": null,
   "id": "f276f1e6",
   "metadata": {},
   "outputs": [],
   "source": [
    "**dictionary--------->dict"
   ]
  },
  {
   "cell_type": "code",
   "execution_count": null,
   "id": "f0b7ba22",
   "metadata": {},
   "outputs": [],
   "source": [
    "***Dict is going to store in key:value pairs"
   ]
  },
  {
   "cell_type": "code",
   "execution_count": null,
   "id": "76f6d84c",
   "metadata": {},
   "outputs": [],
   "source": [
    "****It is going on to be declared in {}"
   ]
  },
  {
   "cell_type": "code",
   "execution_count": null,
   "id": "3de4981c",
   "metadata": {},
   "outputs": [],
   "source": []
  },
  {
   "cell_type": "code",
   "execution_count": null,
   "id": "48f8835d",
   "metadata": {},
   "outputs": [],
   "source": [
    "Ex:\"name\":\"chandu\"------->key:value\n",
    "        \"age\":20--------->key:value "
   ]
  },
  {
   "cell_type": "code",
   "execution_count": null,
   "id": "c0c21935",
   "metadata": {},
   "outputs": [],
   "source": []
  },
  {
   "cell_type": "code",
   "execution_count": null,
   "id": "c792e83d",
   "metadata": {},
   "outputs": [],
   "source": [
    "##facebook application\n",
    "\n",
    "KEYS        VALUES\n",
    " \"          \"\n",
    " \"          \"\n",
    "username=\"user1\"\n",
    "first_name=\"abc\"\n",
    "last_name=\"xyz\"\n",
    "dob------>26302001\n",
    "email---->abc@gmail.com\n",
    "pwd------>12345"
   ]
  },
  {
   "cell_type": "code",
   "execution_count": null,
   "id": "9ae6be70",
   "metadata": {},
   "outputs": [],
   "source": []
  },
  {
   "cell_type": "code",
   "execution_count": null,
   "id": "32d0d785",
   "metadata": {},
   "outputs": [],
   "source": [
    "##declaring a dict"
   ]
  },
  {
   "cell_type": "code",
   "execution_count": 27,
   "id": "a8eb5f21",
   "metadata": {},
   "outputs": [],
   "source": [
    "lover={\"name\":\"chandu\",\"branch\":\"cse\",\"rollno\":52}\n",
    "keys------->name,branch,rollno\n",
    "values----->chandu,cse,52"
   ]
  },
  {
   "cell_type": "code",
   "execution_count": 26,
   "id": "7e6e4375",
   "metadata": {},
   "outputs": [
    {
     "name": "stdout",
     "output_type": "stream",
     "text": [
      "{'name': 'chandu', 'branch': 'cse', 'rollno': 52}\n"
     ]
    }
   ],
   "source": [
    "print(lover)"
   ]
  },
  {
   "cell_type": "code",
   "execution_count": 29,
   "id": "c2be6e61",
   "metadata": {},
   "outputs": [
    {
     "data": {
      "text/plain": [
       "dict"
      ]
     },
     "execution_count": 29,
     "metadata": {},
     "output_type": "execute_result"
    }
   ],
   "source": [
    "type(lover)"
   ]
  },
  {
   "cell_type": "code",
   "execution_count": null,
   "id": "62e97568",
   "metadata": {},
   "outputs": [],
   "source": [
    "#adding\n",
    "##updating\n",
    "###delete"
   ]
  },
  {
   "cell_type": "code",
   "execution_count": null,
   "id": "14455d90",
   "metadata": {},
   "outputs": [],
   "source": [
    "1.adding"
   ]
  },
  {
   "cell_type": "code",
   "execution_count": 5,
   "id": "7cf49b85",
   "metadata": {},
   "outputs": [
    {
     "name": "stdout",
     "output_type": "stream",
     "text": [
      "{'name': 'chandu', 'branch': 'cse', 'rollno': 52}\n"
     ]
    }
   ],
   "source": [
    "lover={\"name\":\"chandu\",\"branch\":\"cse\",\"rollno\":52}\n",
    "print(lover)"
   ]
  },
  {
   "cell_type": "code",
   "execution_count": 7,
   "id": "713b8e50",
   "metadata": {},
   "outputs": [],
   "source": [
    "lover[\"course\"]:\"b.tech\""
   ]
  },
  {
   "cell_type": "code",
   "execution_count": 10,
   "id": "d72508e5",
   "metadata": {},
   "outputs": [
    {
     "name": "stdout",
     "output_type": "stream",
     "text": [
      "{'name': 'chandu', 'branch': 'cse', 'rollno': 52}\n"
     ]
    }
   ],
   "source": [
    "print(lover)"
   ]
  },
  {
   "cell_type": "code",
   "execution_count": null,
   "id": "908f5ccd",
   "metadata": {},
   "outputs": [],
   "source": []
  },
  {
   "cell_type": "code",
   "execution_count": null,
   "id": "e9635188",
   "metadata": {},
   "outputs": [],
   "source": []
  },
  {
   "cell_type": "code",
   "execution_count": null,
   "id": "b33a3e5c",
   "metadata": {},
   "outputs": [],
   "source": []
  },
  {
   "cell_type": "code",
   "execution_count": null,
   "id": "2d944dc2",
   "metadata": {},
   "outputs": [],
   "source": []
  },
  {
   "cell_type": "code",
   "execution_count": null,
   "id": "d8b9ffef",
   "metadata": {},
   "outputs": [],
   "source": []
  },
  {
   "cell_type": "code",
   "execution_count": null,
   "id": "1699aa92",
   "metadata": {},
   "outputs": [],
   "source": []
  },
  {
   "cell_type": "code",
   "execution_count": null,
   "id": "fd5fb793",
   "metadata": {},
   "outputs": [],
   "source": []
  },
  {
   "cell_type": "code",
   "execution_count": null,
   "id": "790c4236",
   "metadata": {},
   "outputs": [],
   "source": []
  },
  {
   "cell_type": "code",
   "execution_count": null,
   "id": "638d22b1",
   "metadata": {},
   "outputs": [],
   "source": []
  }
 ],
 "metadata": {
  "kernelspec": {
   "display_name": "Python 3",
   "language": "python",
   "name": "python3"
  },
  "language_info": {
   "codemirror_mode": {
    "name": "ipython",
    "version": 3
   },
   "file_extension": ".py",
   "mimetype": "text/x-python",
   "name": "python",
   "nbconvert_exporter": "python",
   "pygments_lexer": "ipython3",
   "version": "3.8.8"
  }
 },
 "nbformat": 4,
 "nbformat_minor": 5
}
