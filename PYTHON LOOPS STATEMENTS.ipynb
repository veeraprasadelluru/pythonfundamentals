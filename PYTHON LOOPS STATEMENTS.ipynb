{
 "cells": [
  {
   "cell_type": "markdown",
   "id": "25b57f1a",
   "metadata": {},
   "source": [
    "# LOOPING  STATEMENTS"
   ]
  },
  {
   "cell_type": "code",
   "execution_count": null,
   "id": "b5ee2ceb",
   "metadata": {},
   "outputs": [],
   "source": []
  },
  {
   "cell_type": "code",
   "execution_count": 1,
   "id": "4e213b1c",
   "metadata": {},
   "outputs": [
    {
     "name": "stdout",
     "output_type": "stream",
     "text": [
      "['chandu', 'veera', 'sarma']\n"
     ]
    }
   ],
   "source": [
    "friends=[\"chandu\",\"veera\",\"sarma\"]\n",
    "print(friends)"
   ]
  },
  {
   "cell_type": "code",
   "execution_count": 2,
   "id": "70ecf3bc",
   "metadata": {},
   "outputs": [
    {
     "name": "stdout",
     "output_type": "stream",
     "text": [
      "chandu\n",
      "veera\n",
      "sarma\n"
     ]
    }
   ],
   "source": [
    "for b in friends:\n",
    "    print(b)"
   ]
  },
  {
   "cell_type": "code",
   "execution_count": 3,
   "id": "dae4d9b4",
   "metadata": {},
   "outputs": [
    {
     "name": "stdout",
     "output_type": "stream",
     "text": [
      "we are friends:\n",
      "chandu\n",
      "veera\n",
      "sarma\n"
     ]
    }
   ],
   "source": [
    "print(\"we are friends:\")\n",
    "for b in friends:\n",
    "    print(b)\n"
   ]
  },
  {
   "cell_type": "code",
   "execution_count": 4,
   "id": "1bc63455",
   "metadata": {},
   "outputs": [
    {
     "name": "stdout",
     "output_type": "stream",
     "text": [
      "chandu\n",
      "we are friends\n",
      "veera\n",
      "we are friends\n",
      "sarma\n",
      "we are friends\n"
     ]
    }
   ],
   "source": [
    "for b in friends:\n",
    "    print(b)\n",
    "    print(\"we are friends\")\n"
   ]
  },
  {
   "cell_type": "code",
   "execution_count": 5,
   "id": "dfd040a7",
   "metadata": {},
   "outputs": [
    {
     "name": "stdout",
     "output_type": "stream",
     "text": [
      "we are friends:\n",
      "chandu\n",
      "my first friend\n",
      "veera\n",
      "my first friend\n",
      "sarma\n",
      "my first friend\n"
     ]
    }
   ],
   "source": [
    "print(\"we are friends:\")\n",
    "for b in friends:\n",
    "    print(b)\n",
    "    print(\"my first friend\")\n"
   ]
  },
  {
   "cell_type": "code",
   "execution_count": 11,
   "id": "c3045af2",
   "metadata": {},
   "outputs": [
    {
     "name": "stdout",
     "output_type": "stream",
     "text": [
      "my first friend:chandu,my sevond friend:veera,my third friend:sarma\n"
     ]
    }
   ],
   "source": [
    "print(\"my first friend:chandu,my sevond friend:veera,my third friend:sarma\")"
   ]
  },
  {
   "cell_type": "code",
   "execution_count": 12,
   "id": "e2ba1b3a",
   "metadata": {},
   "outputs": [
    {
     "name": "stdout",
     "output_type": "stream",
     "text": [
      "\n",
      "chandu:my first friend \n",
      "veera:my sevond friend \n",
      "sarma:my third friend\n"
     ]
    }
   ],
   "source": [
    "print(\"\\nchandu:my first friend \\nveera:my sevond friend \\nsarma:my third friend\")"
   ]
  },
  {
   "cell_type": "code",
   "execution_count": 5,
   "id": "b5405334",
   "metadata": {},
   "outputs": [
    {
     "name": "stdout",
     "output_type": "stream",
     "text": [
      "we are bestfriends:\n",
      "\n",
      "chandu:my first friend \n",
      "veera:my sevond friend \n",
      "sarma:my third friend\n"
     ]
    }
   ],
   "source": [
    "bestfriends=[\"\"]\n",
    "print(\"we are bestfriends:\")\n",
    "for b in bestfriends:\n",
    "    print(\"\\nchandu:my first friend \\nveera:my sevond friend \\nsarma:my third friend\")"
   ]
  },
  {
   "cell_type": "code",
   "execution_count": 4,
   "id": "847a5112",
   "metadata": {},
   "outputs": [
    {
     "name": "stdout",
     "output_type": "stream",
     "text": [
      "we are bestfriends:\n",
      "\n",
      "chandu:my first friend \n",
      "veera:my sevond friend \n",
      "sarma:my third friend\n"
     ]
    }
   ],
   "source": [
    "bestfriends=[\":\"]\n",
    "print(\"we are bestfriends:\")\n",
    "for b in bestfriends:\n",
    "    print(\"\\nchandu:my first friend \\nveera:my sevond friend \\nsarma:my third friend\")"
   ]
  },
  {
   "cell_type": "code",
   "execution_count": null,
   "id": "1569217c",
   "metadata": {},
   "outputs": [],
   "source": []
  },
  {
   "cell_type": "markdown",
   "id": "54e6fb35",
   "metadata": {},
   "source": [
    "# INTRODUCTION  ABOUT  TUPLE  DATA  TYPE"
   ]
  },
  {
   "cell_type": "code",
   "execution_count": null,
   "id": "81dd7229",
   "metadata": {},
   "outputs": [],
   "source": []
  },
  {
   "cell_type": "code",
   "execution_count": null,
   "id": "09b4c289",
   "metadata": {},
   "outputs": [],
   "source": []
  },
  {
   "cell_type": "code",
   "execution_count": null,
   "id": "651677cc",
   "metadata": {},
   "outputs": [],
   "source": []
  },
  {
   "cell_type": "code",
   "execution_count": 6,
   "id": "56e5a401",
   "metadata": {},
   "outputs": [
    {
     "name": "stdout",
     "output_type": "stream",
     "text": [
      "(1, 2, 'veera', 'sarma', 3, 'chandu')\n"
     ]
    }
   ],
   "source": [
    "a=(1,2,\"veera\",\"sarma\",3,\"chandu\")\n",
    "print(a)"
   ]
  },
  {
   "cell_type": "code",
   "execution_count": 7,
   "id": "be5c10f8",
   "metadata": {},
   "outputs": [
    {
     "data": {
      "text/plain": [
       "tuple"
      ]
     },
     "execution_count": 7,
     "metadata": {},
     "output_type": "execute_result"
    }
   ],
   "source": [
    "type(a)"
   ]
  },
  {
   "cell_type": "code",
   "execution_count": 8,
   "id": "e6a570ac",
   "metadata": {},
   "outputs": [
    {
     "name": "stdout",
     "output_type": "stream",
     "text": [
      "1\n"
     ]
    }
   ],
   "source": [
    "print(a[0])"
   ]
  },
  {
   "cell_type": "code",
   "execution_count": 10,
   "id": "0e83e2de",
   "metadata": {},
   "outputs": [
    {
     "name": "stdout",
     "output_type": "stream",
     "text": [
      "chandu\n"
     ]
    }
   ],
   "source": [
    "print(a[5])"
   ]
  },
  {
   "cell_type": "code",
   "execution_count": 11,
   "id": "a5cd9213",
   "metadata": {},
   "outputs": [
    {
     "name": "stdout",
     "output_type": "stream",
     "text": [
      "chandu\n"
     ]
    }
   ],
   "source": [
    "print(a[-1])"
   ]
  },
  {
   "cell_type": "code",
   "execution_count": 12,
   "id": "f2a10132",
   "metadata": {},
   "outputs": [
    {
     "name": "stdout",
     "output_type": "stream",
     "text": [
      "1\n"
     ]
    }
   ],
   "source": [
    "print(a[-6])"
   ]
  },
  {
   "cell_type": "code",
   "execution_count": 13,
   "id": "a10f3dfd",
   "metadata": {},
   "outputs": [
    {
     "name": "stdout",
     "output_type": "stream",
     "text": [
      "(2, 'veera', 'sarma', 3)\n"
     ]
    }
   ],
   "source": [
    "print(a[1:5])"
   ]
  },
  {
   "cell_type": "code",
   "execution_count": 14,
   "id": "c536052a",
   "metadata": {},
   "outputs": [
    {
     "ename": "SyntaxError",
     "evalue": "invalid syntax (<ipython-input-14-1ce6e1100c51>, line 1)",
     "output_type": "error",
     "traceback": [
      "\u001b[1;36m  File \u001b[1;32m\"<ipython-input-14-1ce6e1100c51>\"\u001b[1;36m, line \u001b[1;32m1\u001b[0m\n\u001b[1;33m    print(5:1)\u001b[0m\n\u001b[1;37m           ^\u001b[0m\n\u001b[1;31mSyntaxError\u001b[0m\u001b[1;31m:\u001b[0m invalid syntax\n"
     ]
    }
   ],
   "source": [
    "print(5:1)"
   ]
  },
  {
   "cell_type": "code",
   "execution_count": 19,
   "id": "59d53fac",
   "metadata": {},
   "outputs": [
    {
     "name": "stdout",
     "output_type": "stream",
     "text": [
      "(2,)\n"
     ]
    }
   ],
   "source": [
    "print(a[1:3:5])"
   ]
  },
  {
   "cell_type": "code",
   "execution_count": 20,
   "id": "e4310926",
   "metadata": {},
   "outputs": [
    {
     "name": "stdout",
     "output_type": "stream",
     "text": [
      "(2, 3)\n"
     ]
    }
   ],
   "source": [
    "print(a[1:5:3])"
   ]
  },
  {
   "cell_type": "code",
   "execution_count": null,
   "id": "2ed0bd99",
   "metadata": {},
   "outputs": [],
   "source": []
  },
  {
   "cell_type": "code",
   "execution_count": null,
   "id": "f4f5e707",
   "metadata": {},
   "outputs": [],
   "source": []
  },
  {
   "cell_type": "code",
   "execution_count": null,
   "id": "26925a6d",
   "metadata": {},
   "outputs": [],
   "source": []
  },
  {
   "cell_type": "code",
   "execution_count": null,
   "id": "2a5ce908",
   "metadata": {},
   "outputs": [],
   "source": []
  },
  {
   "cell_type": "code",
   "execution_count": null,
   "id": "4461df73",
   "metadata": {},
   "outputs": [],
   "source": []
  },
  {
   "cell_type": "code",
   "execution_count": null,
   "id": "ca35fb03",
   "metadata": {},
   "outputs": [],
   "source": []
  },
  {
   "cell_type": "code",
   "execution_count": null,
   "id": "651f7ed7",
   "metadata": {},
   "outputs": [],
   "source": []
  },
  {
   "cell_type": "code",
   "execution_count": null,
   "id": "e6c6bcb7",
   "metadata": {},
   "outputs": [],
   "source": []
  }
 ],
 "metadata": {
  "kernelspec": {
   "display_name": "Python 3",
   "language": "python",
   "name": "python3"
  },
  "language_info": {
   "codemirror_mode": {
    "name": "ipython",
    "version": 3
   },
   "file_extension": ".py",
   "mimetype": "text/x-python",
   "name": "python",
   "nbconvert_exporter": "python",
   "pygments_lexer": "ipython3",
   "version": "3.8.8"
  }
 },
 "nbformat": 4,
 "nbformat_minor": 5
}
